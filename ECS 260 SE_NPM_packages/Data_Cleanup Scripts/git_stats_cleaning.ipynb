{
 "cells": [
  {
   "cell_type": "code",
   "execution_count": 10,
   "metadata": {},
   "outputs": [
    {
     "name": "stderr",
     "output_type": "stream",
     "text": [
      "/var/folders/lq/0mbm75vx76dc27bwyrh2mb2h0000gn/T/ipykernel_53575/2649593325.py:9: FutureWarning: In a future version of pandas, parsing datetimes with mixed time zones will raise an error unless `utc=True`. Please specify `utc=True` to opt in to the new behaviour and silence this warning. To create a `Series` with mixed offsets and `object` dtype, please use `apply` and `datetime.datetime.strptime`\n",
      "  df['last_commit_date'] = pd.to_datetime(df['last_commit_date'])\n"
     ]
    }
   ],
   "source": [
    "import pandas as pd\n",
    "from datetime import datetime\n",
    "import pytz\n",
    "\n",
    "# Read the CSV file\n",
    "df = pd.read_csv('/Users/tahers/Documents/SE_NPM_packages/git_stats_data.csv')\n",
    "\n",
    "# Convert 'last_commit_date' column to datetime\n",
    "df['last_commit_date'] = pd.to_datetime(df['last_commit_date'])\n",
    "\n",
    "# Define a function to calculate months before with decimals\n",
    "def months_before(date_str):\n",
    "    now = datetime.now(pytz.utc)  # Get the current date and time in UTC\n",
    "    commit_date = pd.to_datetime(date_str)  # Convert the commit date string to datetime\n",
    "    commit_date = commit_date.replace(tzinfo=pytz.utc)  # Add timezone information (UTC) to commit_date\n",
    "    months_diff = (now - commit_date).total_seconds() / 60 / 60 / 24 / 30.4375  # Calculate months difference with decimals\n",
    "    rounded_months_diff = round(months_diff, 2)  # Round off to 2 decimal places\n",
    "    return rounded_months_diff\n",
    "\n",
    "# Apply the function to 'last_commit_date' column and create a new column 'months_before'\n",
    "df['months_before'] = df['last_commit_date'].apply(lambda x: months_before(x))\n",
    "\n",
    "# Drop the original 'last_commit_date' column\n",
    "df.drop('last_commit_date', axis=1, inplace=True)\n",
    "df.drop('version_release_frequency_days', axis=1, inplace=True)\n",
    "df['version_release_frequency_months'] = df['version_release_frequency_months'].astype(float).round(2)\n",
    "df['version_release_frequency_years'] = df['version_release_frequency_years'].astype(float).round(2)\n",
    "df['avg_commits_per_day'] = df['avg_commits_per_day'].astype(float).round(2)\n",
    "\n",
    "# Rename the 'months_before' column to 'last_commit_date'\n",
    "df.rename(columns={'months_before': 'last_commit_before_months'}, inplace=True)\n",
    "df.rename(columns={'unique_contributors': 'git_unique_contributors'}, inplace=True)\n",
    "\n",
    "# Get the column names\n",
    "columns = df.columns.tolist()\n",
    "# Move the last column to the 3rd position\n",
    "columns.insert(2, columns.pop())\n",
    "# Rearrange the columns in the DataFrame\n",
    "df = df[columns]\n",
    "\n",
    "# Write the updated DataFrame back to a new CSV file\n",
    "df.to_csv('/Users/tahers/Documents/SE_NPM_packages/git_stats_data_cleaned.csv', index=False)\n"
   ]
  }
 ],
 "metadata": {
  "kernelspec": {
   "display_name": "Python 3",
   "language": "python",
   "name": "python3"
  },
  "language_info": {
   "codemirror_mode": {
    "name": "ipython",
    "version": 3
   },
   "file_extension": ".py",
   "mimetype": "text/x-python",
   "name": "python",
   "nbconvert_exporter": "python",
   "pygments_lexer": "ipython3",
   "version": "3.12.0"
  },
  "orig_nbformat": 4
 },
 "nbformat": 4,
 "nbformat_minor": 2
}
