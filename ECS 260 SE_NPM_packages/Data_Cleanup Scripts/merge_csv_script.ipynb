{
 "cells": [
  {
   "cell_type": "code",
   "execution_count": 1,
   "metadata": {},
   "outputs": [
    {
     "name": "stdout",
     "output_type": "stream",
     "text": [
      "Error reading file /Users/tahers/Documents/SE_NPM_packages/npmjs_batch1.csv: Error tokenizing data. C error: Buffer overflow caught - possible malformed input file.\n",
      "\n",
      "Error reading file /Users/tahers/Documents/SE_NPM_packages/npmjs_batch2.csv: Error tokenizing data. C error: Buffer overflow caught - possible malformed input file.\n",
      "\n",
      "Error reading file /Users/tahers/Documents/SE_NPM_packages/npmjs_batch3.csv: Error tokenizing data. C error: Buffer overflow caught - possible malformed input file.\n",
      "\n",
      "Error reading file /Users/tahers/Documents/SE_NPM_packages/npmjs_batch4.csv: Error tokenizing data. C error: Buffer overflow caught - possible malformed input file.\n",
      "\n",
      "Error reading file /Users/tahers/Documents/SE_NPM_packages/npmjs_batch5.csv: Error tokenizing data. C error: Buffer overflow caught - possible malformed input file.\n",
      "\n",
      "Error reading file /Users/tahers/Documents/SE_NPM_packages/npmjs_batch6.csv: Error tokenizing data. C error: Buffer overflow caught - possible malformed input file.\n",
      "\n",
      "Error reading file /Users/tahers/Documents/SE_NPM_packages/npmjs_batch7.csv: Error tokenizing data. C error: Buffer overflow caught - possible malformed input file.\n",
      "\n",
      "Error reading file /Users/tahers/Documents/SE_NPM_packages/npmjs_batch8.csv: Error tokenizing data. C error: Buffer overflow caught - possible malformed input file.\n",
      "\n",
      "Error reading file /Users/tahers/Documents/SE_NPM_packages/npmjs_batch9.csv: Error tokenizing data. C error: Buffer overflow caught - possible malformed input file.\n",
      "\n",
      "Error reading file /Users/tahers/Documents/SE_NPM_packages/npmjs_batch10.csv: Error tokenizing data. C error: Buffer overflow caught - possible malformed input file.\n",
      "\n"
     ]
    }
   ],
   "source": [
    "import pandas as pd\n",
    "\n",
    "csv_files = ['/Users/tahers/Documents/SE_NPM_packages/npmjs_batch1.csv','/Users/tahers/Documents/SE_NPM_packages/npmjs_batch2.csv','/Users/tahers/Documents/SE_NPM_packages/npmjs_batch3.csv','/Users/tahers/Documents/SE_NPM_packages/npmjs_batch4.csv','/Users/tahers/Documents/SE_NPM_packages/npmjs_batch5.csv','/Users/tahers/Documents/SE_NPM_packages/npmjs_batch6.csv','/Users/tahers/Documents/SE_NPM_packages/npmjs_batch7.csv','/Users/tahers/Documents/SE_NPM_packages/npmjs_batch8.csv','/Users/tahers/Documents/SE_NPM_packages/npmjs_batch9.csv','/Users/tahers/Documents/SE_NPM_packages/npmjs_batch10.csv']\n",
    "\n",
    "merged_data = pd.DataFrame()\n",
    "first_file = True\n",
    "for file in csv_files:\n",
    "    try:\n",
    "        df = pd.read_csv(file, encoding='utf-8', dtype=str, na_values='')\n",
    "        \n",
    "        if first_file:\n",
    "            merged_data = df\n",
    "            first_file = False\n",
    "        else:\n",
    "            merged_data = pd.concat([merged_data, df], ignore_index=True)\n",
    "    except Exception as e:\n",
    "        print(f\"Error reading file {file}: {e}\")\n",
    "\n",
    "# Write merged data to a new CSV file\n",
    "merged_data.to_csv('npmjs_data_50k.csv', index=False)"
   ]
  },
  {
   "cell_type": "code",
   "execution_count": 3,
   "metadata": {},
   "outputs": [],
   "source": [
    "import pandas as pd\n",
    "\n",
    "merged_data = pd.read_csv('/Users/tahers/Documents/SE_NPM_packages/Dataset/npmjs_data.csv')\n",
    "\n",
    "selected_data = merged_data[['package_name', 'github_repository']]\n",
    "\n",
    "selected_data.to_csv('package_name_git_repo.csv', index=False, escapechar='\\\\')\n"
   ]
  },
  {
   "cell_type": "code",
   "execution_count": 3,
   "metadata": {},
   "outputs": [],
   "source": [
    "import pandas as pd\n",
    "\n",
    "df1 = pd.read_csv('/Users/tahers/Documents/SE_NPM_packages/Dataset/npmjs_data.csv')  \n",
    "df2 = pd.read_csv('/Users/tahers/Documents/SE_NPM_packages/Dataset/synk_data.csv') \n",
    "\n",
    "# Merge the two DataFrames based on package_name and Package columns\n",
    "merged_df = pd.merge(df1, df2, how='inner', left_on='package_name', right_on='Package')\n",
    "\n",
    "# Drop one of the two columns with similar package names\n",
    "merged_df.drop('Package', axis=1, inplace=True)\n",
    "\n",
    "# Write the merged DataFrame to a new CSV file\n",
    "merged_df.to_csv('data_npmjs_synk.csv', index=False)\n"
   ]
  },
  {
   "cell_type": "code",
   "execution_count": 7,
   "metadata": {},
   "outputs": [],
   "source": [
    "import pandas as pd\n",
    "\n",
    "df = pd.read_csv('/Users/tahers/Documents/SE_NPM_packages/Dataset/synk_data.csv')\n",
    "\n",
    "df['vulnerabilities_count'] = df['vulnerabilities_count'].apply(lambda x: 0 if x == '[]' else x)\n",
    "df['Security_recommendation'] = df['Security_recommendation'].apply(lambda x: 'No known security issues' if x == '?' else x)\n",
    "# df['vulnerabilities_count'] = df['vulnerabilities_count'].apply(lambda x: 0 if x == '[]' else x)\n",
    "# df['Security_recommendation'] = df['Security_recommendation'].apply(lambda x: 'No known security issues' if x == '?' else x)\n",
    "# df['vulnerabilities_count'] = df['vulnerabilities_count'].apply(lambda x: 0 if x == '[]' else x)\n",
    "# df['Health_score'] = df['Health_score'].apply(lambda x: 'No known security issues' if x == '? /' else x)\n",
    "\n",
    "\n",
    "df.to_csv('modified_synk.csv', index=False)\n"
   ]
  },
  {
   "cell_type": "code",
   "execution_count": 10,
   "metadata": {},
   "outputs": [
    {
     "name": "stdout",
     "output_type": "stream",
     "text": [
      "Number of entries in column1: 0\n",
      "Number of entries in column2: 0\n",
      "Number of entries in column3: 0\n",
      "Number of entries in column4: 0\n",
      "Number of entries in column5: 0\n"
     ]
    }
   ],
   "source": [
    "import pandas as pd\n",
    "df = pd.read_csv('/Users/tahers/Documents/SE_NPM_packages/Data_Cleanup Scripts/MODIFIEd_file.csv')\n",
    "\n",
    "# Count the number of entries with the specific value in each column\n",
    "count_col1 = (df['Health_score'] == '? /').sum()\n",
    "count_col2 = (df['Security_recommendation'] == 'Pending…').sum()\n",
    "count_col3 = (df['Popularity'] == 'Pending…').sum()\n",
    "count_col4 = (df['Maintainence'] == 'Pending…').sum()\n",
    "count_col5 = (df['Community'] == 'Pending…').sum()\n",
    "\n",
    "\n",
    "print(f\"Number of entries in column1: {count_col1}\")\n",
    "print(f\"Number of entries in column2: {count_col2}\")\n",
    "print(f\"Number of entries in column3: {count_col3}\")\n",
    "print(f\"Number of entries in column4: {count_col4}\")\n",
    "print(f\"Number of entries in column5: {count_col5}\")\n"
   ]
  },
  {
   "cell_type": "code",
   "execution_count": 9,
   "metadata": {},
   "outputs": [],
   "source": [
    "import pandas as pd\n",
    "\n",
    "# Load the CSV file into a DataFrame\n",
    "df = pd.read_csv('/Users/tahers/Documents/SE_NPM_packages/Dataset/synk_data.csv')\n",
    "\n",
    "# Filter out rows where all four values match the specific value\n",
    "filtered_df = df[~((df['Health_score'] == '? /') & (df['Security_recommendation'] == 'Pending…') & (df['Popularity'] == 'Pending…') & (df['Maintainence'] == 'Pending…') & (df['Community'] == 'Pending…'))]\n",
    "\n",
    "filtered_df.to_csv('MODIFIEd_file.csv', index=False)\n"
   ]
  },
  {
   "cell_type": "code",
   "execution_count": 3,
   "metadata": {},
   "outputs": [],
   "source": [
    "import pandas as pd\n",
    "import re\n",
    "\n",
    "def clean_git_url(git_url):\n",
    "    # Remove common prefixes\n",
    "    git_url = re.sub(r'^https://https://', 'https://', git_url)\n",
    "    git_url = re.sub(r'^git\\+', '', git_url)\n",
    "    git_url = re.sub(r'^http://', 'https://', git_url)\n",
    "    git_url = re.sub(r'^https://\\S+@', 'https://', git_url)\n",
    "    git_url = re.sub(r'\\.git$', '', git_url)\n",
    "\n",
    "    return git_url\n",
    "\n",
    "# Read the CSV file\n",
    "input_file = '/Users/tahers/Documents/SE_NPM_packages/Dataset/npmjs_data.csv'\n",
    "\n",
    "df = pd.read_csv(input_file)\n",
    "df['github_repository'] = df['github_repository'].fillna('')\n",
    "\n",
    "df['github_repository'] = df['github_repository'].apply(clean_git_url)\n",
    "\n",
    "df.to_csv('modified_npmjs_data.csv', index=False)\n",
    "\n"
   ]
  },
  {
   "cell_type": "code",
   "execution_count": 2,
   "metadata": {},
   "outputs": [],
   "source": [
    "import pandas as pd\n",
    "\n",
    "# Read the first CSV file\n",
    "df1 = pd.read_csv('/Users/tahers/Documents/SE_NPM_packages/git_stats_data.csv')  # Replace 'first_csv_file.csv' with the path to your first CSV file\n",
    "\n",
    "# Read the second CSV file\n",
    "df2 = pd.read_csv('')  # Replace 'second_csv_file.csv' with the path to your second CSV file\n",
    "\n",
    "# Replace values in 'open_PRs' and 'merged_PRs' columns of the first CSV file with values from the second CSV file\n",
    "df1['open_PRs'] = df2['open_PRs'].tolist()\n",
    "df1['merged_PRs'] = df2['merged_PRs'].tolist()\n",
    "\n",
    "# Write the updated DataFrame back to a new CSV file\n",
    "df1.to_csv('git_stats_data_with_pr.csv', index=False)  # Replace 'updated_first_csv_file.csv' with the desired output file path\n"
   ]
  },
  {
   "cell_type": "code",
   "execution_count": 35,
   "metadata": {},
   "outputs": [],
   "source": [
    "import pandas as pd\n",
    "\n",
    "df1 = pd.read_csv('/Users/tahers/Documents/SE_NPM_packages/git_stats_data_merged.csv')   \n",
    "df2 = pd.read_csv('/Users/tahers/Documents/SE_NPM_packages/unique_data.csv')   \n",
    "\n",
    "# Merge the two DataFrames based on package_name and Package columns\n",
    "# merged_df = pd.merge(df1, df2, how='outer', left_on='git_repo', right_on='latest_version_git_repo')\n",
    "merged_df = pd.merge(df1, df2, how='left', left_on='git_repo', right_on='git_repository')\n",
    "\n",
    "# Drop one of the two columns with similar package names\n",
    "merged_df.drop('git_repository', axis=1, inplace=True)  # Drop column\n",
    "# merged_df.drop('package_name', axis=1, inplace=True)  # Drop column\n",
    "\n",
    "#rename\n",
    "merged_df.rename(columns={'git_repo': 'git_repository'}, inplace=True)\n",
    "# merged_df.rename(columns={'TS SLOC': 'sloc_typescript'}, inplace=True)\n",
    "\n",
    "# Write the merged DataFrame to a new CSV file\n",
    "merged_df.to_csv('full_merged_data.csv', index=False)\n"
   ]
  },
  {
   "cell_type": "code",
   "execution_count": 8,
   "metadata": {},
   "outputs": [
    {
     "name": "stdout",
     "output_type": "stream",
     "text": [
      "Length of DataFrame with unique 'git_repository' values: 8081\n"
     ]
    }
   ],
   "source": [
    "import pandas as pd\n",
    "\n",
    "# Read the CSV file\n",
    "df = pd.read_csv('/Users/tahers/Documents/SE_NPM_packages/download_trends_merged.csv')  \n",
    "\n",
    "# Find the unique values in the 'latest_version_git_repo' column\n",
    "unique_git_repo = df['package_name'].value_counts() == 1\n",
    "\n",
    "# Keep only the rows where 'latest_version_git_repo' has unique values\n",
    "# df_unique = df[df['package_name'].isin(unique_git_repo[package_name].index)]\n",
    "\n",
    "# Print the length of the new DataFrame\n",
    "print(\"Length of DataFrame with unique 'git_repository' values:\", len(unique_git_repo))\n",
    "\n",
    "# Write the new DataFrame to a new CSV file\n",
    "# df_unique.to_csv('/Users/tahers/Documents/SE_NPM_packages/unique_download_trends.csv', index=False)\n"
   ]
  },
  {
   "cell_type": "code",
   "execution_count": 40,
   "metadata": {},
   "outputs": [
    {
     "name": "stdout",
     "output_type": "stream",
     "text": [
      "Number of rows for trivial matches: 1385\n"
     ]
    }
   ],
   "source": [
    "# #counting trivials\n",
    "\n",
    "# if JS_SLOC!=0:\n",
    "#     JS_SLOC : <=35 and CC : <=10\n",
    "# else:\n",
    "#     TS_SLOC : <=35 and CC : <=10\n",
    "\n",
    "\n",
    "import pandas as pd\n",
    "\n",
    "# Read the CSV file\n",
    "df = pd.read_csv('/Users/tahers/Documents/SE_NPM_packages/full_merged_data.csv')  \n",
    "\n",
    "# Initialize a counter\n",
    "count = 0\n",
    "\n",
    "# Iterate over each row in the DataFrame\n",
    "for index, row in df.iterrows():\n",
    "    if row['sloc_javascript'] != 0:\n",
    "        # Check condition for JavaScript SLOC\n",
    "        if row['sloc_javascript'] <= 35 and row['cyclomatic_complexity'] <= 10:\n",
    "            count += 1\n",
    "    else:\n",
    "        # Check condition for TypeScript SLOC\n",
    "        if row['sloc_typescript'] <= 35 and row['cyclomatic_complexity'] <= 10:\n",
    "            count += 1\n",
    "\n",
    "# Print the count\n",
    "print(\"Number of rows for trivial matches:\", count)\n"
   ]
  },
  {
   "cell_type": "code",
   "execution_count": 45,
   "metadata": {},
   "outputs": [
    {
     "name": "stdout",
     "output_type": "stream",
     "text": [
      "Number of True values in 'Trivial' column: 1385\n"
     ]
    }
   ],
   "source": [
    "import pandas as pd\n",
    "\n",
    "# Read the CSV file\n",
    "df = pd.read_csv('/Users/tahers/Documents/SE_NPM_packages/full_merged_data.csv')  \n",
    "\n",
    "# Initialize a list to store boolean values\n",
    "trivial_list = []\n",
    "\n",
    "# Iterate over each row in the DataFrame\n",
    "for index, row in df.iterrows():\n",
    "    if row['sloc_javascript'] != 0:\n",
    "        # Check condition for JavaScript SLOC\n",
    "        trivial_list.append(row['sloc_javascript'] <= 35 and row['cyclomatic_complexity'] <= 10)\n",
    "    else:\n",
    "        # Check condition for TypeScript SLOC\n",
    "        trivial_list.append(row['sloc_typescript'] <= 35 and row['cyclomatic_complexity'] <= 10)\n",
    "\n",
    "# Create a new column 'Trivial' based on the boolean values list\n",
    "df['Trivial'] = trivial_list\n",
    "\n",
    "# Count and print the number of True values in the 'Trivial' column\n",
    "true_count = df['Trivial'].sum()\n",
    "print(\"Number of True values in 'Trivial' column:\", true_count)\n",
    "\n",
    "# Write the updated DataFrame back to a new CSV file\n",
    "df.to_csv('/Users/tahers/Documents/SE_NPM_packages/full_merged_data_trivial.csv', index=False)\n"
   ]
  },
  {
   "cell_type": "code",
   "execution_count": 43,
   "metadata": {},
   "outputs": [],
   "source": [
    "df = pd.read_csv('/Users/tahers/Documents/SE_NPM_packages/full_merged_data_trivial.csv')  \n",
    "\n",
    "df.drop('readme_exists_synk', axis=1, inplace=True)  # Drop column\n",
    "\n",
    "# Write the new DataFrame to a new CSV file\n",
    "df.to_csv('/Users/tahers/Documents/SE_NPM_packages/full_merged_data_trivial.csv', index=False)"
   ]
  },
  {
   "cell_type": "code",
   "execution_count": 29,
   "metadata": {},
   "outputs": [
    {
     "name": "stdout",
     "output_type": "stream",
     "text": [
      "Number of rows for deprecated matches: 403\n"
     ]
    }
   ],
   "source": [
    "#counting deprecated\n",
    "\n",
    "\n",
    "import pandas as pd\n",
    "\n",
    "# Read the CSV file\n",
    "df = pd.read_csv('/Users/tahers/Documents/SE_NPM_packages/cleaned_data.csv')  \n",
    "\n",
    "# Initialize a counter\n",
    "count = 0\n",
    "\n",
    "# Iterate over each row in the DataFrame\n",
    "for index, row in df.iterrows():\n",
    "    if row['deprecated'] == 'Yes':\n",
    "            count += 1\n",
    "\n",
    "# Print the count\n",
    "print(\"Number of rows for deprecated matches:\", count)\n"
   ]
  },
  {
   "cell_type": "code",
   "execution_count": 11,
   "metadata": {},
   "outputs": [],
   "source": [
    "import pandas as pd\n",
    "\n",
    "# Read the CSV file\n",
    "df = pd.read_csv('/Users/tahers/Documents/SE_NPM_packages/download_trends_merged.csv')\n",
    "\n",
    "# Remove rows where 'package_name' is blank\n",
    "df = df.dropna(subset=['package_name'])\n",
    "\n",
    "# Save the DataFrame to a new CSV file\n",
    "df.to_csv('download_trends_merged.csv', index=False)\n"
   ]
  },
  {
   "cell_type": "code",
   "execution_count": 12,
   "metadata": {},
   "outputs": [],
   "source": [
    "import pandas as pd\n",
    "\n",
    "# Read the CSV file\n",
    "df = pd.read_csv('/Users/tahers/Documents/SE_NPM_packages/full_merged_data_trivial.csv')\n",
    "\n",
    "# New column index order\n",
    "new_column_index = ['package_name', 'description', 'package_created', 'last_modified', 'package_age', 'latest_version', 'months_since_latest_version_synk', 'version_release_frequency_months', 'version_release_frequency_years','num_versions_released', 'maintainers_length', 'dependencies_name', 'dependencies_count','dependencies_synk', 'dev_dependencies_name', 'dev_dependencies_count', 'readme_exists_npmjs','readme_exists_synk', 'last_day_downloads', 'last_week_downloads', 'last_month_downloads', 'last_3_month_downloads', 'License', 'Health Score','vul_count', 'Security Recommendation', 'Popularity', 'Maintainence', 'Community', 'git_repository', 'stars','GitHub Stars','forks', 'github_forks', 'git_unique_contributors', 'github_contributors', 'open_PRs', 'merged_PRs', 'open_issues', 'resolved_issues','total_commits', 'last_commit_before_months','months_since_last_commit','avg_commits_per_day', 'total_lines_added', 'total_lines_deleted', 'lines_added_one_and_half_year', 'lines_deleted_one_and_half_year','readme_updated','LOC', 'sloc_javascript', 'sloc_typescript', 'cyclomatic_complexity', 'Install Size', '# of Files', 'TS Typings','deprecation_status', 'Trivial','Inactive', 'Dead']\n",
    "\n",
    "# Reindex the DataFrame with the new column index\n",
    "df = df.reindex(columns=new_column_index)\n",
    "\n",
    "#rename\n",
    "df.rename(columns={'deprecation_status': 'Deprecated'}, inplace=True)\n",
    "# Add a new column at the end\n",
    "df['Inactive'] = False\n",
    "df['Dead'] = False\n",
    "\n",
    "#fill na values\n",
    "df['Deprecated'].fillna(False, inplace=True)\n",
    "\n",
    "df.drop('GitHub Stars', axis=1, inplace=True)  # Drop column\n",
    "df.drop('github_forks', axis=1, inplace=True)  # Drop column\n",
    "df.drop('readme_exists_synk', axis=1, inplace=True)  # Drop column\n",
    "df.drop('dependencies_synk', axis=1, inplace=True)  # Drop column\n",
    "\n",
    "\n",
    "# Save the modified DataFrame to a new CSV file\n",
    "df.to_csv('full_merged_data_modified.csv', index=False)\n"
   ]
  },
  {
   "cell_type": "code",
   "execution_count": 13,
   "metadata": {},
   "outputs": [],
   "source": [
    "import pandas as pd\n",
    "\n",
    "# Read the first CSV file\n",
    "df1 = pd.read_csv('/Users/tahers/Documents/SE_NPM_packages/full_merged_data_modified.csv')\n",
    "df1.drop('Inactive', axis=1, inplace=True)  # Drop column\n",
    "\n",
    "# Read the second CSV file\n",
    "df2 = pd.read_csv('/Users/tahers/Documents/SE_NPM_packages/inactive-stats - inactive-stats.csv')\n",
    "\n",
    "# Perform a left join on the 'package_name' column\n",
    "merged_df = pd.merge(df1, df2[['package_name', 'Inactive']], how='left', on='package_name')\n",
    "\n",
    "# Update the 'Inactive' column based on the condition\n",
    "merged_df['Inactive'] = merged_df['Inactive'].replace('Yes', True)\n",
    "merged_df['Inactive'] = merged_df['Inactive'].replace('No', False)\n",
    "merged_df['Inactive'].fillna(False, inplace=True)\n",
    "\n",
    "# Save the updated DataFrame to a new CSV file\n",
    "merged_df.to_csv('full_merged_data_modified.csv', index=False)\n"
   ]
  },
  {
   "cell_type": "code",
   "execution_count": 20,
   "metadata": {},
   "outputs": [
    {
     "name": "stdout",
     "output_type": "stream",
     "text": [
      "Total 'True' values in the Dead: 5783\n"
     ]
    }
   ],
   "source": [
    "import pandas as pd\n",
    "\n",
    "df = pd.read_csv('/Users/tahers/Documents/SE_NPM_packages/full_merged_data_modified_2.csv')\n",
    "\n",
    "# Count total 'Yes' values in a column\n",
    "yes_count = df['Dead'].value_counts().get(True, 0)\n",
    "df['Dead'].fillna('--', inplace=True)\n",
    "\n",
    "print(\"Total 'True' values in the Dead:\", yes_count)\n",
    "df.to_csv('full_merged_data_modified_2.csv', index=False)\n"
   ]
  },
  {
   "cell_type": "code",
   "execution_count": 29,
   "metadata": {},
   "outputs": [
    {
     "name": "stdout",
     "output_type": "stream",
     "text": [
      "(8990, 56)\n",
      "Total 'True' values in the Trivial: 1401\n"
     ]
    }
   ],
   "source": [
    "import pandas as pd\n",
    "\n",
    "df = pd.read_csv('/Users/tahers/Documents/SE_NPM_packages/full_merged_data_modified.csv')\n",
    "print(df.shape)\n",
    "\n",
    "# Count total 'Yes' values in a column\n",
    "yes_count = df['Trivial'].value_counts().get(True, 0)\n",
    "\n",
    "print(\"Total 'True' values in the Trivial:\", yes_count)"
   ]
  }
 ],
 "metadata": {
  "kernelspec": {
   "display_name": "Python 3",
   "language": "python",
   "name": "python3"
  },
  "language_info": {
   "codemirror_mode": {
    "name": "ipython",
    "version": 3
   },
   "file_extension": ".py",
   "mimetype": "text/x-python",
   "name": "python",
   "nbconvert_exporter": "python",
   "pygments_lexer": "ipython3",
   "version": "3.12.0"
  },
  "orig_nbformat": 4
 },
 "nbformat": 4,
 "nbformat_minor": 2
}
