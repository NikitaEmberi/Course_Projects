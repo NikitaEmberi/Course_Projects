{
 "cells": [
  {
   "cell_type": "code",
   "execution_count": null,
   "metadata": {},
   "outputs": [],
   "source": [
    "import pandas as pd\n",
    "import random\n",
    "\n",
    "\n",
    "df1 = pd.read_csv('/kaggle/input/npm-samples/All_Primary_Packages.csv')\n",
    "list1 = df1.iloc[:, 0].tolist()\n",
    "\n",
    "df2 = pd.read_csv('/kaggle/input/npm-samples/random_packages_20k.csv')\n",
    "list2 = df2['Package Name'].tolist()\n",
    "\n",
    "# Shuffle list1\n",
    "random.shuffle(list1)\n",
    "\n",
    "selected_elements = []\n",
    "for element in list1:\n",
    "    if len(selected_elements) >= 50000:\n",
    "        break\n",
    "    if element not in list2:\n",
    "        selected_elements.append(element)\n",
    "\n",
    "# Append selected elements to list2\n",
    "list2.extend(selected_elements)\n",
    "\n",
    "listt = set(list2)\n",
    "print(len(listt))\n",
    "\n",
    "# Create a DataFrame with list2 as a column\n",
    "df_output = pd.DataFrame({'Package Name': list2})\n",
    "\n",
    "# Write the DataFrame to a CSV file\n",
    "df_output.to_csv('random_packages_70k.csv', index=False)"
   ]
  }
 ],
 "metadata": {
  "language_info": {
   "name": "python"
  },
  "orig_nbformat": 4
 },
 "nbformat": 4,
 "nbformat_minor": 2
}
