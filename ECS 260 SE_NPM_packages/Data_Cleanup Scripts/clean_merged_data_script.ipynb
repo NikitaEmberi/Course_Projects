{
 "cells": [
  {
   "cell_type": "markdown",
   "id": "5c04d2ca-f476-4b63-92fc-f3d32278962d",
   "metadata": {},
   "source": [
    "#### Import Packages"
   ]
  },
  {
   "cell_type": "code",
   "execution_count": 1,
   "id": "be431cb4-39cf-4838-9ae7-029f5e280743",
   "metadata": {},
   "outputs": [],
   "source": [
    "from IPython.display import display, clear_output\n",
    "from tkinter import Tk, filedialog\n",
    "from tqdm import tqdm\n",
    "import pandas as pd\n",
    "import numpy as np\n",
    "import csv\n",
    "import re"
   ]
  },
  {
   "cell_type": "markdown",
   "id": "d2320cc9-6856-458c-902b-fb6a1a22c600",
   "metadata": {},
   "source": [
    "#### Import CSV file"
   ]
  },
  {
   "cell_type": "code",
   "execution_count": 2,
   "id": "3497867c-83e9-4237-b68c-f5d0cec6a6d2",
   "metadata": {},
   "outputs": [
    {
     "name": "stdout",
     "output_type": "stream",
     "text": [
      "CSV file loaded successfully. The shape of the data is (20310, 41)\n"
     ]
    },
    {
     "name": "stderr",
     "output_type": "stream",
     "text": [
      "C:\\Users\\balaj\\AppData\\Local\\Temp\\ipykernel_18784\\3719102924.py:11: DtypeWarning: Columns (19,32) have mixed types. Specify dtype option on import or set low_memory=False.\n",
      "  df = pd.read_csv(file_path, encoding='latin-1')\n"
     ]
    }
   ],
   "source": [
    "# Create a Tkinter root window\n",
    "root = Tk()\n",
    "root.withdraw()  # Hide the root window\n",
    "\n",
    "# Ask the user to select a CSV file\n",
    "file_path = filedialog.askopenfilename(filetypes=[(\"CSV files\", \"*.csv\")])\n",
    "\n",
    "# Check if a file was selected\n",
    "if file_path:\n",
    "    # Load the CSV file into a pandas DataFrame\n",
    "    df = pd.read_csv(file_path, encoding='latin-1')\n",
    "    \n",
    "    # Display the DataFrame\n",
    "    print(\"CSV file loaded successfully. The shape of the data is \" + str(df.shape))\n",
    "    \n",
    "else:\n",
    "    print(\"No file selected.\")"
   ]
  },
  {
   "cell_type": "markdown",
   "id": "48feb0ae-7969-4215-8067-4367f3caa50f",
   "metadata": {},
   "source": [
    "#### Duplicate the CSV for future use"
   ]
  },
  {
   "cell_type": "code",
   "execution_count": 3,
   "id": "c98e331d-f4de-4c09-a933-213e6d638319",
   "metadata": {},
   "outputs": [],
   "source": [
    "df_dupe = df"
   ]
  },
  {
   "cell_type": "code",
   "execution_count": 4,
   "id": "fdcf3dfa-db82-4cd6-9319-e2bed0dd6ea7",
   "metadata": {},
   "outputs": [],
   "source": [
    "df = df_dupe"
   ]
  },
  {
   "cell_type": "markdown",
   "id": "f9c6b241-f8c0-469c-8a4f-e1af81cbfae6",
   "metadata": {},
   "source": [
    "#### Drops Rows where important values are missing"
   ]
  },
  {
   "cell_type": "code",
   "execution_count": 5,
   "id": "039f90c1-b7c7-448c-a220-4c05031f6dfb",
   "metadata": {},
   "outputs": [],
   "source": [
    "df = df.dropna(subset=['latest_version_git_repo'])"
   ]
  },
  {
   "cell_type": "code",
   "execution_count": 6,
   "id": "03760038-20bf-4185-b9ac-2ef31417034a",
   "metadata": {},
   "outputs": [],
   "source": [
    "df = df.dropna(subset=['Latest Version'])"
   ]
  },
  {
   "cell_type": "code",
   "execution_count": 7,
   "id": "4d87637c-f2f6-4290-8a15-b3a943ed546d",
   "metadata": {},
   "outputs": [
    {
     "data": {
      "text/plain": [
       "(10628, 41)"
      ]
     },
     "execution_count": 7,
     "metadata": {},
     "output_type": "execute_result"
    }
   ],
   "source": [
    "df.shape"
   ]
  },
  {
   "cell_type": "markdown",
   "id": "6430050a-9aa8-4074-9a12-e69aa667ced1",
   "metadata": {},
   "source": [
    "#### Clean Github Links"
   ]
  },
  {
   "cell_type": "markdown",
   "id": "a184140e-1ea1-4bf4-bda1-2e34088e1244",
   "metadata": {},
   "source": [
    "Check if 'latest_version_git_repo' is a github link. If not, drop it. Also modifies @github.com: to 'https://github.com/'"
   ]
  },
  {
   "cell_type": "code",
   "execution_count": 8,
   "id": "736e1c4f-6662-45d8-94b1-f31b96e0fb26",
   "metadata": {},
   "outputs": [],
   "source": [
    "def clean_github_links(df):\n",
    "    link_change_count = 0\n",
    "    row_drop_count = 0\n",
    "    for i in tqdm(df.index):\n",
    "        try:\n",
    "            if (re.match(r'.*(github.com).*', df['latest_version_git_repo'][i])):\n",
    "                if(re.match(r'.*(@github.com:).*', df['latest_version_git_repo'][i])):\n",
    "                    df.at[i, 'latest_version_git_repo'] = re.sub(r'.*(@github.com:)', \"https://github.com/\", df['latest_version_git_repo'][i])\n",
    "                    link_change_count += 1\n",
    "            else:\n",
    "                df = df.drop(index=i)\n",
    "                row_drop_count += 1\n",
    "        except:\n",
    "            df = df.drop(index=i)\n",
    "            row_drop_count += 1\n",
    "    clear_output(wait=True)\n",
    "    print(\"Github links modified: \" + str(link_change_count))\n",
    "    print(\"Rows dropped: \", str(row_drop_count))\n",
    "    print(\"New data shape: \", str(df.shape))\n",
    "    return df"
   ]
  },
  {
   "cell_type": "code",
   "execution_count": 9,
   "id": "69b7a0d8-f968-4f01-9192-60af6ac6f7d3",
   "metadata": {},
   "outputs": [
    {
     "name": "stdout",
     "output_type": "stream",
     "text": [
      "Github links modified: 103\n",
      "Rows dropped:  250\n",
      "New data shape:  (10378, 41)\n"
     ]
    }
   ],
   "source": [
    "df = clean_github_links(df)"
   ]
  },
  {
   "cell_type": "markdown",
   "id": "daee0f07-1e47-4cdf-b9e0-e9151fd351e7",
   "metadata": {},
   "source": [
    "#### Clean Question Marks"
   ]
  },
  {
   "cell_type": "markdown",
   "id": "c6b4b1f4-c4ea-4ef6-9b5e-3dda62364bd0",
   "metadata": {},
   "source": [
    "Replacing '?' with __nan__ which is displayed as blank cell in csv"
   ]
  },
  {
   "cell_type": "code",
   "execution_count": 10,
   "id": "3401b4d6-32aa-4b5b-8ea9-09d069059959",
   "metadata": {},
   "outputs": [],
   "source": [
    "def remove_qmarks(val):\n",
    "    if(val == '?'):\n",
    "        return np.NaN\n",
    "    else:\n",
    "        return val"
   ]
  },
  {
   "cell_type": "code",
   "execution_count": 11,
   "id": "13a87923-a692-48cf-9641-8f7a85b1d1f6",
   "metadata": {},
   "outputs": [],
   "source": [
    "def clean_qmarks(column_name):\n",
    "    df[column_name] = df[column_name].apply(remove_qmarks)\n",
    "    return df[column_name]"
   ]
  },
  {
   "cell_type": "code",
   "execution_count": 12,
   "id": "f4c86851-5cdf-4060-b734-0492d10ff459",
   "metadata": {},
   "outputs": [],
   "source": [
    "for column in df.columns:\n",
    "    df[column] = clean_qmarks(column)"
   ]
  },
  {
   "cell_type": "markdown",
   "id": "09c8d12c-ed89-41d0-a53f-e6958d0cb546",
   "metadata": {},
   "source": [
    "#### Handle 'K' in Counts"
   ]
  },
  {
   "cell_type": "code",
   "execution_count": 13,
   "id": "8bacdcaf-8a7d-4c72-aeca-fa36cb56b6ba",
   "metadata": {},
   "outputs": [],
   "source": [
    "def modify_K(val):\n",
    "    if(re.match(r'([0-9.])+(K|k)', str(val))):\n",
    "        val = str(round(float(val[:-1]) * 1000))\n",
    "    return val"
   ]
  },
  {
   "cell_type": "code",
   "execution_count": 14,
   "id": "259f3873-4c54-4a70-b795-04dc99064f6e",
   "metadata": {},
   "outputs": [],
   "source": [
    "def clean_k_counts(column_name):\n",
    "    df[column_name] = df[column_name].apply(modify_K)\n",
    "    return df[column_name]"
   ]
  },
  {
   "cell_type": "code",
   "execution_count": 15,
   "id": "d12fdf84-ad70-40d8-988c-39c1c40f4211",
   "metadata": {},
   "outputs": [],
   "source": [
    "columns_to_handle = ['GitHub Stars', 'Forks', 'Versions', '# of Files']\n",
    "for column in columns_to_handle:\n",
    "    df[column] = clean_k_counts(column)"
   ]
  },
  {
   "cell_type": "markdown",
   "id": "192a599d-ff1c-43ea-b51a-70608bd6ac93",
   "metadata": {},
   "source": [
    "#### Clean timestamps"
   ]
  },
  {
   "cell_type": "code",
   "execution_count": 16,
   "id": "8ff0ab01-4890-47c4-921d-ce2b0eefbd84",
   "metadata": {},
   "outputs": [],
   "source": [
    "def change_timestamps(column_name):\n",
    "    df[column_name] = pd.to_datetime(df[column_name])\n",
    "    df[column_name] = df[column_name].dt.strftime('%Y-%m-%d')\n",
    "    return df[column_name]"
   ]
  },
  {
   "cell_type": "code",
   "execution_count": 17,
   "id": "9c089f94-d486-4081-91c7-d7e6a61e6a46",
   "metadata": {},
   "outputs": [],
   "source": [
    "columns_to_handle = ['modified', 'created']\n",
    "for column in columns_to_handle:\n",
    "    df[column] = change_timestamps(column)"
   ]
  },
  {
   "cell_type": "markdown",
   "id": "9b00276b-e378-467f-8908-ff321b489854",
   "metadata": {},
   "source": [
    "#### Clean \"years ago\" values"
   ]
  },
  {
   "cell_type": "code",
   "execution_count": 18,
   "id": "9aa6081a-9f84-4c61-86e9-3a57be0c7d4f",
   "metadata": {},
   "outputs": [],
   "source": [
    "def extract_years(value):\n",
    "    try:\n",
    "        match = re.search(r'(\\d+)\\s*(years?|months?|days?|hours?)\\s*(ago)*', value)\n",
    "        if match:\n",
    "            num_value = int(match.group(1)) \n",
    "            unit = match.group(2)\n",
    "            if unit.startswith('year'):\n",
    "                return round(num_value * 12, 2)\n",
    "            elif unit.startswith('month'):\n",
    "                return round(num_value, 2)\n",
    "            elif unit.startswith('day'):\n",
    "                return round(num_value / 30.44, 2)\n",
    "            elif unit.startswith('hour'):\n",
    "                return round(num_value / 720, 2)\n",
    "        else:\n",
    "            return np.NaN\n",
    "    except:\n",
    "        return value"
   ]
  },
  {
   "cell_type": "code",
   "execution_count": 19,
   "id": "9cbae7c9-34ab-4621-b3b7-63a3f1115bf0",
   "metadata": {},
   "outputs": [],
   "source": [
    "def handle_years(column_name):\n",
    "    df[column_name] = df[column_name].apply(extract_years)\n",
    "    return df[column_name]"
   ]
  },
  {
   "cell_type": "code",
   "execution_count": 20,
   "id": "cc35d682-6d28-43e9-95dd-74d42a9fbbee",
   "metadata": {},
   "outputs": [],
   "source": [
    "columns_to_handle = ['Latest Version', 'Last Commit', 'Age', 'Last Release']\n",
    "for column in columns_to_handle:\n",
    "    df[column] = handle_years(column)"
   ]
  },
  {
   "cell_type": "markdown",
   "id": "682d90c7-b762-4fc0-b6a6-9d2bc1104d83",
   "metadata": {},
   "source": [
    "#### Drop 'last release'. Redundant with 'Latest Version'"
   ]
  },
  {
   "cell_type": "code",
   "execution_count": 21,
   "id": "e1070f37-62a7-4048-aa10-ae4345b831d8",
   "metadata": {},
   "outputs": [
    {
     "data": {
      "text/plain": [
       "(10378, 40)"
      ]
     },
     "execution_count": 21,
     "metadata": {},
     "output_type": "execute_result"
    }
   ],
   "source": [
    "df = df.drop('Last Release', axis = 1)\n",
    "df.shape"
   ]
  },
  {
   "cell_type": "markdown",
   "id": "9377a2ad-ba4e-4615-86ec-6be2acb790e6",
   "metadata": {},
   "source": [
    "#### Drop 'Maintainers'. Redundant with 'maintainers_length'"
   ]
  },
  {
   "cell_type": "code",
   "execution_count": 22,
   "id": "f81347f3-682f-48cf-9eab-dc3ecf632f6e",
   "metadata": {},
   "outputs": [
    {
     "data": {
      "text/plain": [
       "5"
      ]
     },
     "execution_count": 22,
     "metadata": {},
     "output_type": "execute_result"
    }
   ],
   "source": [
    "count = 0\n",
    "for i in tqdm(df.index):\n",
    "    if not (df['maintainers_length'][i] == str(round(df['Maintainers'][i]))):\n",
    "        count += 1\n",
    "clear_output(wait=True)\n",
    "count"
   ]
  },
  {
   "cell_type": "code",
   "execution_count": 23,
   "id": "903e4e24-d59e-4484-be8a-6832cd391a6c",
   "metadata": {},
   "outputs": [
    {
     "data": {
      "text/plain": [
       "(10378, 39)"
      ]
     },
     "execution_count": 23,
     "metadata": {},
     "output_type": "execute_result"
    }
   ],
   "source": [
    "df = df.drop('Maintainers', axis = 1)\n",
    "df.shape"
   ]
  },
  {
   "cell_type": "markdown",
   "id": "5a087fdc-10c4-4242-b8bd-2e20c35dfbd2",
   "metadata": {},
   "source": [
    "#### Clean '-' in 'Contributors' "
   ]
  },
  {
   "cell_type": "code",
   "execution_count": 24,
   "id": "a12c61bf-a245-4511-bee6-9a8636b729e0",
   "metadata": {},
   "outputs": [],
   "source": [
    "def remove_minus(val):\n",
    "    if(val == '-'):\n",
    "        return np.NaN\n",
    "    else:\n",
    "        return val"
   ]
  },
  {
   "cell_type": "code",
   "execution_count": 25,
   "id": "5008e6d9-d7d6-478c-9c66-79c1566c5360",
   "metadata": {},
   "outputs": [],
   "source": [
    "def clean_minus(column_name):\n",
    "    df[column_name] = df[column_name].apply(remove_minus)\n",
    "    return df[column_name]"
   ]
  },
  {
   "cell_type": "code",
   "execution_count": 26,
   "id": "a979029c-e822-405c-8f06-949e703424f6",
   "metadata": {},
   "outputs": [],
   "source": [
    "columns_to_handle = ['Contributors']\n",
    "for column in columns_to_handle:\n",
    "    df[column] = clean_minus(column)"
   ]
  },
  {
   "cell_type": "markdown",
   "id": "f582f39f-dc63-435d-8738-37dd6e6d9f8f",
   "metadata": {},
   "source": [
    "#### Handle 'Install Size' Column"
   ]
  },
  {
   "cell_type": "code",
   "execution_count": 27,
   "id": "224d8730-bab2-44de-aac7-7bf7a7b8abcf",
   "metadata": {},
   "outputs": [],
   "source": [
    "def extract_size(value):\n",
    "    try:\n",
    "        match = re.search(r'([0-9.]+) *(B|kB|MB|GB)', str(value), re.IGNORECASE)\n",
    "        if match:\n",
    "            num_value = float(match.group(1)) \n",
    "            unit = match.group(2)\n",
    "            if re.match(r'(B)', unit, re.IGNORECASE):\n",
    "                return round(num_value / 1000, 2)\n",
    "            elif re.match(r'(kB)', unit, re.IGNORECASE):\n",
    "                return round(num_value, 2)\n",
    "            elif re.match(r'(MB)', unit, re.IGNORECASE):\n",
    "                return round(num_value * 1000, 2)\n",
    "            elif re.match(r'(GB)', unit, re.IGNORECASE):\n",
    "                return round(num_value * 1000000, 2)\n",
    "        else:\n",
    "            return np.NaN\n",
    "    except:\n",
    "        print(value)\n",
    "        return value"
   ]
  },
  {
   "cell_type": "code",
   "execution_count": 28,
   "id": "48d6050a-54cd-44f7-a87c-d821f171bc77",
   "metadata": {},
   "outputs": [],
   "source": [
    "def handle_size(column_name):\n",
    "    df[column_name] = df[column_name].apply(extract_size)\n",
    "    return df[column_name]"
   ]
  },
  {
   "cell_type": "code",
   "execution_count": 29,
   "id": "e7b47cf2-079b-4d18-8a59-356c08d01197",
   "metadata": {},
   "outputs": [],
   "source": [
    "df['Install Size'] = handle_size('Install Size')"
   ]
  },
  {
   "cell_type": "markdown",
   "id": "e1acff2b-85e2-405e-a5af-a4e0bd955349",
   "metadata": {},
   "source": [
    "#### Change Column Type for Health Score"
   ]
  },
  {
   "cell_type": "code",
   "execution_count": 31,
   "id": "deaa1344-4dbd-4e77-a055-8a4120b2407f",
   "metadata": {},
   "outputs": [
    {
     "name": "stderr",
     "output_type": "stream",
     "text": [
      "100%|████████████████████████████████████████████████████████████████████████| 10378/10378 [00:00<00:00, 155071.20it/s]\n"
     ]
    },
    {
     "data": {
      "text/plain": [
       "2"
      ]
     },
     "execution_count": 31,
     "metadata": {},
     "output_type": "execute_result"
    }
   ],
   "source": [
    "count = 0\n",
    "for i in tqdm(df.index):\n",
    "    try:\n",
    "        if not (re.match(r'[0-9.]+', str(df['Health Score'][i]))):\n",
    "            df.at[i, 'Health Score'] = np.nan\n",
    "            count += 1\n",
    "    except:\n",
    "        print(df['Health Score'][i])\n",
    "count"
   ]
  },
  {
   "cell_type": "code",
   "execution_count": 32,
   "id": "1ee8e613-bff3-4dc5-bdb5-688ce998b765",
   "metadata": {},
   "outputs": [],
   "source": [
    "df['Health Score'] = df['Health Score'].astype('float')"
   ]
  },
  {
   "cell_type": "markdown",
   "id": "06bb7c1c-4995-4c4e-97db-906530bb0094",
   "metadata": {},
   "source": [
    "#### Merge vulnerability columns"
   ]
  },
  {
   "cell_type": "code",
   "execution_count": 33,
   "id": "310629ca-aa79-4df6-887c-d5ccf3bf84ce",
   "metadata": {},
   "outputs": [],
   "source": [
    "def merge_vul(columns_to_handle):\n",
    "    for columns in columns_to_handle:\n",
    "        df[columns] = df[columns].fillna(0)\n",
    "    for i in tqdm(df.index):\n",
    "        df.at[i, columns_to_handle[0]] = df.at[i, columns_to_handle[0]] + df.at[i, columns_to_handle[1]] + df.at[i, columns_to_handle[2]] + df.at[i, columns_to_handle[3]]\n",
    "        df.at[i, columns_to_handle[0]] = int(round(df.at[i, columns_to_handle[0]]))\n",
    "    return df"
   ]
  },
  {
   "cell_type": "code",
   "execution_count": 34,
   "id": "019f48da-5fd0-485f-a916-fe7da97875fd",
   "metadata": {},
   "outputs": [
    {
     "name": "stderr",
     "output_type": "stream",
     "text": [
      "100%|█████████████████████████████████████████████████████████████████████████| 10378/10378 [00:00<00:00, 29944.80it/s]\n"
     ]
    }
   ],
   "source": [
    "columns_to_handle = ['critical_vul_count', 'high_vul_count', 'medium_vul_count', 'low_vul_count']\n",
    "df = merge_vul(columns_to_handle)\n",
    "df = df.rename(columns={columns_to_handle[0]: 'vul_count'})\n",
    "df = df.drop(columns_to_handle[1:4], axis = 1)"
   ]
  },
  {
   "cell_type": "markdown",
   "id": "e5a65a82-6368-4fad-82f8-86439c959fce",
   "metadata": {},
   "source": [
    "#### Changing 'deprecation_status' values to bool"
   ]
  },
  {
   "cell_type": "code",
   "execution_count": 35,
   "id": "3d4e84fa-f17c-4f3d-a5af-0305f63e66fa",
   "metadata": {},
   "outputs": [],
   "source": [
    "def modify_bool(val):\n",
    "    if(val == 'Yes'):\n",
    "        return True\n",
    "    elif(val == 'No'):\n",
    "        return False\n",
    "    else:\n",
    "        return np.nan"
   ]
  },
  {
   "cell_type": "code",
   "execution_count": 36,
   "id": "dbe45d8a-4a61-4d08-ad8a-8e87437a255b",
   "metadata": {},
   "outputs": [],
   "source": [
    "def clean_depricated(column_name):\n",
    "    df[column_name] = df[column_name].apply(modify_bool)\n",
    "    return df[column_name]"
   ]
  },
  {
   "cell_type": "code",
   "execution_count": 37,
   "id": "31674c59-cb84-4eb3-bf8a-829175ba1c21",
   "metadata": {},
   "outputs": [],
   "source": [
    "df['deprecated'] = clean_depricated('deprecated')"
   ]
  },
  {
   "cell_type": "markdown",
   "id": "448e5bb8-2582-42c4-9b4b-c3fccbdef3c1",
   "metadata": {},
   "source": [
    "#### Renaming Columns"
   ]
  },
  {
   "cell_type": "code",
   "execution_count": 38,
   "id": "4bc0e3ce-0ca3-4252-890f-7baf4e209dc2",
   "metadata": {},
   "outputs": [
    {
     "name": "stdout",
     "output_type": "stream",
     "text": [
      "'created' renamed to 'package_created'\n",
      "'modified' renamed to 'last_modified'\n",
      "'latest_version_git_repo' renamed to 'git_repository'\n",
      "'deprecated' renamed to 'deprecation_status'\n",
      "'Latest Version' renamed to 'months_since_latest_version_synk'\n",
      "'Forks' renamed to 'github_forks'\n",
      "'Contributors' renamed to 'github_contributors'\n",
      "'readmeFilename_exists' renamed to 'readme_exists_npmjs'\n",
      "'Readme File' renamed to 'readme_exists_synk'\n",
      "'Age' renamed to 'package_age'\n",
      "'Dependencies' renamed to 'dependencies_synk'\n",
      "'Versions' renamed to 'num_versions_released'\n",
      "'Last Commit' renamed to 'months_since_last_commit'\n"
     ]
    }
   ],
   "source": [
    "old_col_names = ['created', 'modified', 'latest_version_git_repo', 'deprecated', 'Latest Version', 'Forks', 'Contributors', 'readmeFilename_exists', 'Readme File', 'Age', 'Dependencies', 'Versions', 'Last Commit']\n",
    "new_col_names = ['package_created', 'last_modified', 'git_repository', 'deprecation_status', 'months_since_latest_version_synk', 'github_forks', 'github_contributors', 'readme_exists_npmjs', 'readme_exists_synk', 'package_age', 'dependencies_synk', 'num_versions_released', 'months_since_last_commit']\n",
    "for i in range(len(old_col_names)):\n",
    "    df = df.rename(columns={old_col_names[i]: new_col_names[i]})\n",
    "    print(\"\\'\" + old_col_names[i] + \"\\' renamed to \\'\" + new_col_names[i] + \"\\'\")"
   ]
  },
  {
   "cell_type": "markdown",
   "id": "6bd22ccb-5ed7-4a86-89c5-09023d0a416a",
   "metadata": {},
   "source": [
    "#### Changing Column Types"
   ]
  },
  {
   "cell_type": "code",
   "execution_count": 61,
   "id": "159c45bf-2589-4b1c-9a64-fb0022485e16",
   "metadata": {},
   "outputs": [
    {
     "name": "stdout",
     "output_type": "stream",
     "text": [
      "object\t\t:\tpackage_name\n",
      "object\t\t:\tdescription\n",
      "int32\t\t:\tmaintainers_length\n",
      "bool\t\t:\treadme_exists_npmjs\n",
      "datetime64[ns]\t\t:\tpackage_created\n",
      "datetime64[ns]\t\t:\tlast_modified\n",
      "object\t\t:\tlatest_version\n",
      "object\t\t:\tgit_repository\n",
      "object\t\t:\tdependencies_name\n",
      "int32\t\t:\tdependencies_count\n",
      "object\t\t:\tdev_dependencies_name\n",
      "int32\t\t:\tdev_dependencies_count\n",
      "bool\t\t:\tdeprecation_status\n",
      "float64\t\t:\tlast_day_downloads\n",
      "float64\t\t:\tlast_week_downloads\n",
      "float64\t\t:\tlast_month_downloads\n",
      "float64\t\t:\tlast_3_month_downloads\n",
      "float64\t\t:\tmonths_since_latest_version_synk\n",
      "object\t\t:\tLicense\n",
      "float64\t\t:\tHealth Score\n",
      "object\t\t:\tSecurity Recommendation\n",
      "object\t\t:\tPopularity\n",
      "object\t\t:\tMaintainence\n",
      "object\t\t:\tCommunity\n",
      "float64\t\t:\tGitHub Stars\n",
      "float64\t\t:\tgithub_forks\n",
      "float64\t\t:\tgithub_contributors\n",
      "float64\t\t:\tmonths_since_last_commit\n",
      "object\t\t:\treadme_exists_synk\n",
      "int64\t\t:\tpackage_age\n",
      "object\t\t:\tdependencies_synk\n",
      "int64\t\t:\tnum_versions_released\n",
      "float64\t\t:\tInstall Size\n",
      "int64\t\t:\t# of Files\n",
      "object\t\t:\tTS Typings\n",
      "float64\t\t:\tvul_count\n"
     ]
    }
   ],
   "source": [
    "for column in df.columns:\n",
    "    print(str(df[column].dtype) + \"\\t\\t:\\t\" + column)"
   ]
  },
  {
   "cell_type": "code",
   "execution_count": 40,
   "id": "011fe4ce-e29c-42f3-936f-27d702cf033d",
   "metadata": {},
   "outputs": [],
   "source": [
    "df['package_name'] = df['package_name'].astype('str')"
   ]
  },
  {
   "cell_type": "code",
   "execution_count": 41,
   "id": "69c82219-95e6-4c73-b305-68f2c7a02bfc",
   "metadata": {},
   "outputs": [],
   "source": [
    "df['description'] = df['description'].astype('str')"
   ]
  },
  {
   "cell_type": "code",
   "execution_count": 42,
   "id": "2d687f33-6d0d-46d0-9178-965c78c8a877",
   "metadata": {},
   "outputs": [],
   "source": [
    "df['maintainers_length'] = df['maintainers_length'].astype('int32')"
   ]
  },
  {
   "cell_type": "code",
   "execution_count": 43,
   "id": "262f062d-98b1-459f-bbd5-f6f2c23a67a3",
   "metadata": {},
   "outputs": [],
   "source": [
    "df['readme_exists_npmjs'] = df['readme_exists_npmjs'].astype('bool')"
   ]
  },
  {
   "cell_type": "code",
   "execution_count": 44,
   "id": "3349bc96-3772-464c-9bb0-f6aa3646af45",
   "metadata": {},
   "outputs": [],
   "source": [
    "df['package_created'] = df['package_created'].astype('datetime64')"
   ]
  },
  {
   "cell_type": "code",
   "execution_count": 45,
   "id": "26de0713-e364-4872-b79e-cb60b7325cee",
   "metadata": {},
   "outputs": [],
   "source": [
    "df['last_modified'] = df['last_modified'].astype('datetime64')"
   ]
  },
  {
   "cell_type": "code",
   "execution_count": 46,
   "id": "708646b8-348f-4f61-b2f2-47ab1d725f20",
   "metadata": {},
   "outputs": [],
   "source": [
    "df['latest_version'] = df['latest_version'].astype('str')"
   ]
  },
  {
   "cell_type": "code",
   "execution_count": 47,
   "id": "33156236-d97f-4202-aa70-8dde2343cd57",
   "metadata": {},
   "outputs": [],
   "source": [
    "df['git_repository'] = df['git_repository'].astype('str')"
   ]
  },
  {
   "cell_type": "code",
   "execution_count": 48,
   "id": "cc40092d-6e74-489d-85c9-b5fc64dcdd95",
   "metadata": {},
   "outputs": [],
   "source": [
    "df['dependencies_count'] = df['dependencies_count'].astype('int32')"
   ]
  },
  {
   "cell_type": "code",
   "execution_count": 49,
   "id": "25519b4e-ca1f-4899-bf1e-9ab9c4cefdd8",
   "metadata": {},
   "outputs": [],
   "source": [
    "df['dev_dependencies_count'] = df['dev_dependencies_count'].astype('int32')"
   ]
  },
  {
   "cell_type": "code",
   "execution_count": 50,
   "id": "63104fa7-2cbb-4a28-afac-9eca42754fcb",
   "metadata": {},
   "outputs": [],
   "source": [
    "df['deprecation_status'] = df['deprecation_status'].astype('bool')"
   ]
  },
  {
   "cell_type": "code",
   "execution_count": 51,
   "id": "83dc1861-447f-475b-8ada-df3570bc5fd9",
   "metadata": {},
   "outputs": [],
   "source": [
    "df['License'] = df['License'].astype('str')"
   ]
  },
  {
   "cell_type": "code",
   "execution_count": 52,
   "id": "3f0b210a-56a9-4662-8200-bdf3919ca352",
   "metadata": {},
   "outputs": [],
   "source": [
    "df['Security Recommendation'] = df['Security Recommendation'].astype('str')"
   ]
  },
  {
   "cell_type": "code",
   "execution_count": 53,
   "id": "7a2327da-da80-4f1e-b407-c2b626f00cb6",
   "metadata": {},
   "outputs": [],
   "source": [
    "df['Popularity'] = df['Popularity'].astype('str')"
   ]
  },
  {
   "cell_type": "code",
   "execution_count": 54,
   "id": "c18fdc48-2c4c-47a2-a5e0-f9711f2fa026",
   "metadata": {},
   "outputs": [],
   "source": [
    "df['Maintainence'] = df['Maintainence'].astype('str')"
   ]
  },
  {
   "cell_type": "code",
   "execution_count": 55,
   "id": "124734f3-cb41-4448-a4e7-b0d65677bdce",
   "metadata": {},
   "outputs": [],
   "source": [
    "df['Community'] = df['Community'].astype('str')"
   ]
  },
  {
   "cell_type": "code",
   "execution_count": 56,
   "id": "5c33211c-443d-4d32-ab6f-ae1ba76a38b4",
   "metadata": {},
   "outputs": [],
   "source": [
    "df['GitHub Stars'] = df['GitHub Stars'].astype('float64')"
   ]
  },
  {
   "cell_type": "code",
   "execution_count": 57,
   "id": "c205cb2f-6c2f-4926-8993-884241cd05b2",
   "metadata": {},
   "outputs": [],
   "source": [
    "df['github_forks'] = df['github_forks'].astype('float64')"
   ]
  },
  {
   "cell_type": "code",
   "execution_count": 58,
   "id": "3f7a84ff-2b58-40c1-a423-6ed6607c28ab",
   "metadata": {},
   "outputs": [],
   "source": [
    "df['github_contributors'] = df['github_contributors'].astype('float64')"
   ]
  },
  {
   "cell_type": "code",
   "execution_count": 59,
   "id": "4ba02c40-9c2b-43fc-8272-8faa693a6f7e",
   "metadata": {},
   "outputs": [],
   "source": [
    "df['num_versions_released'] = df['num_versions_released'].astype('int64')"
   ]
  },
  {
   "cell_type": "code",
   "execution_count": 60,
   "id": "73dd3c4e-824d-41b8-b08f-c67f37de4878",
   "metadata": {},
   "outputs": [],
   "source": [
    "df['# of Files'] = df['# of Files'].astype('int64')"
   ]
  },
  {
   "cell_type": "markdown",
   "id": "49b5d95b-e0c4-42b3-9e4b-3fe7bf967076",
   "metadata": {},
   "source": [
    "#### Check Value Freq for a Column"
   ]
  },
  {
   "cell_type": "code",
   "execution_count": 62,
   "id": "99e7f746-bb3f-4267-9dfa-e4b3238c365c",
   "metadata": {},
   "outputs": [
    {
     "name": "stdout",
     "output_type": "stream",
     "text": [
      "False    9975\n",
      "True      403\n",
      "Name: deprecation_status, dtype: int64\n"
     ]
    }
   ],
   "source": [
    "column_name = \"deprecation_status\"\n",
    "print(df[column_name].value_counts(dropna = False))"
   ]
  },
  {
   "cell_type": "markdown",
   "id": "46c028a2-5886-43f8-9aff-3bcfca04cc12",
   "metadata": {},
   "source": [
    "#### Save Cleaned Data to CSV"
   ]
  },
  {
   "cell_type": "code",
   "execution_count": 63,
   "id": "b044b3f8-0575-4cdb-8afe-a6aff4dae4e8",
   "metadata": {},
   "outputs": [],
   "source": [
    "df.to_csv('cleaned_data.csv', index=False)"
   ]
  },
  {
   "cell_type": "code",
   "execution_count": 64,
   "id": "46a9f653-b368-45b4-9efe-f97ffa110876",
   "metadata": {},
   "outputs": [
    {
     "data": {
      "text/plain": [
       "(10378, 36)"
      ]
     },
     "execution_count": 64,
     "metadata": {},
     "output_type": "execute_result"
    }
   ],
   "source": [
    "df.shape"
   ]
  },
  {
   "cell_type": "code",
   "execution_count": null,
   "id": "9f2396f7-3438-484e-9e6a-58bfc356bb23",
   "metadata": {},
   "outputs": [],
   "source": []
  }
 ],
 "metadata": {
  "kernelspec": {
   "display_name": "Python 3 (ipykernel)",
   "language": "python",
   "name": "python3"
  },
  "language_info": {
   "codemirror_mode": {
    "name": "ipython",
    "version": 3
   },
   "file_extension": ".py",
   "mimetype": "text/x-python",
   "name": "python",
   "nbconvert_exporter": "python",
   "pygments_lexer": "ipython3",
   "version": "3.10.2"
  }
 },
 "nbformat": 4,
 "nbformat_minor": 5
}
