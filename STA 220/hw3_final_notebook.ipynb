{
 "cells": [
  {
   "cell_type": "markdown",
   "id": "6a8c04b0-f2fb-4998-96aa-c9ede5a8234e",
   "metadata": {},
   "source": [
    "## Name: Nikita Bhrugumaharshi Emberi"
   ]
  },
  {
   "cell_type": "markdown",
   "id": "7b4bee3a",
   "metadata": {
    "tags": [
     "header"
    ]
   },
   "source": [
    "# STA 220 Assignment 3\n",
    "\n",
    "Due __Februrary 23, 2024__ by __11:59pm__. Submit your work by uploading it to Gradescope through Canvas.\n",
    "\n",
    "Instructions:\n",
    "\n",
    "1. Provide your solutions in new cells following each exercise description. Create as many new cells as necessary. Use code cells for your Python scripts and Markdown cells for explanatory text or answers to non-coding questions. Answer all textual questions in complete sentences.\n",
    "2. The use of assistive tools is permitted, but must be indicated. You will be graded on you proficiency in coding. Produce high quality code by adhering to proper programming principles. \n",
    "3. Export the .jpynb as .pdf and submit it on Gradescope in time. To facilitate grading, indicate the area of the solution on the submission. Submissions without indication will be marked down. No late submissions accepted. \n",
    "4. If test cases are given, your solution must be in the same format. \n",
    "5. The total number of points is 10. "
   ]
  },
  {
   "cell_type": "markdown",
   "id": "17c77449",
   "metadata": {
    "tags": [
     "exercise"
    ]
   },
   "source": [
    "__(a, i)__ Write a function that retrieves all links to movies in the database by scraping the _alphabetical_ section on [imsdb.com](https://imsdb.com/) and retrieve the links. _How many links did you find?_ __(ii)__ Write a function `fetch_script` that, given the link of a movie retrieved in (i), returns a dictionary that contains all relevant information of the movie: \n",
    "\n",
    "```python\n",
    "fetch_script('/Movie Scripts/10 Things I Hate About You Script.html')\n",
    "\n",
    ">>> {'title': '10 Things I Hate About You',\n",
    "     'writers': ['Karen McCullah Lutz', 'Kirsten Smith', 'William Shakespeare'],\n",
    "     'genres': ['Comedy', 'Romance'],\n",
    "     'date': 1997,\n",
    "     'script': '...'}\n",
    "```\n",
    "\n",
    "The `script` field contains a string of the scraped script. Retrieve the information for all movies. _How many scripts did you retrieve?_"
   ]
  },
  {
   "cell_type": "markdown",
   "id": "167cb91c-7eae-4b1d-bf9d-97b4041dec76",
   "metadata": {},
   "source": [
    "#### Importing Required Libraries"
   ]
  },
  {
   "cell_type": "code",
   "execution_count": 2,
   "id": "8ad97439-e189-4355-90f0-6aac93875780",
   "metadata": {},
   "outputs": [],
   "source": [
    "import requests\n",
    "import lxml.html as lx\n",
    "import time\n",
    "import pandas as pd\n",
    "import matplotlib.pyplot as plt\n",
    "import requests_cache\n",
    "import re\n",
    "import concurrent.futures, threading\n",
    "import numpy as np\n",
    "from tqdm import tqdm\n",
    "from urllib.parse import quote\n",
    "import pickle\n",
    "\n",
    "from selenium import webdriver\n",
    "from selenium.webdriver.chrome.service import Service\n",
    "from webdriver_manager.chrome import ChromeDriverManager\n",
    "from selenium.common.exceptions import TimeoutException\n",
    "\n",
    "from sklearn.feature_extraction.text import TfidfVectorizer\n",
    "from sklearn.decomposition import TruncatedSVD\n",
    "from sklearn.decomposition import PCA\n",
    "import seaborn as sns"
   ]
  },
  {
   "cell_type": "markdown",
   "id": "2d0c251c-50cf-4a2f-bca7-e73ef6bd36ad",
   "metadata": {},
   "source": [
    "=============================================================================================================================================\n",
    "__(a, i)__ Write a function that retrieves all links to movies in the database by scraping the _alphabetical_ section on [imsdb.com](https://imsdb.com/) and retrieve the links. _How many links did you find?_\n"
   ]
  },
  {
   "cell_type": "code",
   "execution_count": 5,
   "id": "126463c0-9321-4d73-8ba3-2ee2a17ddf11",
   "metadata": {},
   "outputs": [],
   "source": [
    "url = \"https://imsdb.com/\""
   ]
  },
  {
   "cell_type": "code",
   "execution_count": 6,
   "id": "1f875e6e-ecbb-4095-98a6-4b838333e025",
   "metadata": {},
   "outputs": [],
   "source": [
    "# Sending a GET request to the specified URL\n",
    "result = requests.get(url)\n",
    "\n",
    "# Raising an exception if the request isn't successful\n",
    "result.raise_for_status()"
   ]
  },
  {
   "cell_type": "code",
   "execution_count": 7,
   "id": "28e21c40-e896-4da9-a90b-2840dc1b1439",
   "metadata": {},
   "outputs": [],
   "source": [
    "# Initializing a Chrome webdriver instance\n",
    "driver = webdriver.Chrome()\n",
    "\n",
    "# Setting a page load timeout of 20 seconds\n",
    "driver.set_page_load_timeout(20) # twenty seconds should be enough\n",
    "\n",
    "try:\n",
    "    # Attempt to load the URL in the browser\n",
    "    driver.get(url)\n",
    "except TimeoutException:\n",
    "    # If the page load times out, stop loading the page\n",
    "    driver.execute_script(\"window.stop();\")"
   ]
  },
  {
   "cell_type": "code",
   "execution_count": 8,
   "id": "7293381b-2407-4e1e-ae78-7ebfe5a01621",
   "metadata": {},
   "outputs": [],
   "source": [
    "#function that retrieves all links to movies in the database by scraping the alphabetical section\n",
    "def all_movie_links(href):\n",
    "    time.sleep(0.2)\n",
    "    # Navigating to the URL using your web driver\n",
    "    driver.get(\"https://imsdb.com/\" + href)\n",
    "\n",
    "    # Extracting the HTML content of the webpage for the specific alphabet\n",
    "    alphabet_html = lx.fromstring(driver.page_source)\n",
    "\n",
    "    # Extracting movie links from the HTML content using XPath\n",
    "    links = alphabet_html.xpath('//*[@id=\"mainbody\"]/table[2]/tbody/tr/td[3]/p/a/@href')\n",
    "\n",
    "    # Extending the list of movie links with the extracted links\n",
    "    return links"
   ]
  },
  {
   "cell_type": "code",
   "execution_count": 9,
   "id": "4c381b58-b88d-4ad3-b745-a6f69c89d064",
   "metadata": {},
   "outputs": [
    {
     "name": "stderr",
     "output_type": "stream",
     "text": [
      "100%|███████████████████████████████████████████| 27/27 [00:24<00:00,  1.10it/s]\n"
     ]
    }
   ],
   "source": [
    "# Initializing an empty list to store movie links\n",
    "movie_links = []\n",
    "\n",
    "# Extracting the HTML content of the webpage currently loaded in the web driver\n",
    "html = lx.fromstring(driver.page_source)\n",
    "\n",
    "# Finding the table containing alphabet links on the webpage\n",
    "alphabets_table = html.xpath('//*[@id=\"mainbody\"]/table[2]/tbody/tr/td[1]/table[2]/tbody/tr/td')\n",
    "\n",
    "# Iterating over each row in the table starting from the second row\n",
    "for i in tqdm(range(1, len(alphabets_table))):\n",
    "    time.sleep(0.2)\n",
    "\n",
    "    # Extracting the hyperlink element corresponding to the alphabet link\n",
    "    alphabet_link = alphabets_table[i].xpath('.//a')[0] \n",
    "    href = alphabet_link.get(\"href\")  # Get the href attribute value\n",
    "\n",
    "    links = all_movie_links(href)\n",
    "\n",
    "    # Extending the list of movie links with the extracted links\n",
    "    movie_links.extend(links)"
   ]
  },
  {
   "cell_type": "markdown",
   "id": "45f95fa0-278a-4812-98f4-97564e2db64e",
   "metadata": {},
   "source": [
    "## Final Answer:"
   ]
  },
  {
   "cell_type": "code",
   "execution_count": 10,
   "id": "629fbc76-c9c6-4f6a-bc7f-b78fdd05071e",
   "metadata": {},
   "outputs": [
    {
     "name": "stdout",
     "output_type": "stream",
     "text": [
      "Number of retrieved links to movies in the database by scraping the alphabetical section is: 1221\n"
     ]
    }
   ],
   "source": [
    "print(f\"Number of retrieved links to movies in the database by scraping the alphabetical section is: {len(movie_links)}\")"
   ]
  },
  {
   "cell_type": "code",
   "execution_count": 11,
   "id": "191f81da-5ec7-49a8-96af-4e7d13df27b1",
   "metadata": {},
   "outputs": [],
   "source": [
    "driver.quit()"
   ]
  },
  {
   "cell_type": "markdown",
   "id": "2d044d61-4f9e-42e7-8dc0-7ffad1478ead",
   "metadata": {},
   "source": [
    "=============================================================================================================================================\n",
    "__(a ii)__ Write a function `fetch_script` that, given the link of a movie retrieved in (i), returns a dictionary that contains all relevant information of the movie: "
   ]
  },
  {
   "cell_type": "code",
   "execution_count": 17,
   "id": "306b573d-bfe3-46ba-b0e9-5e520c2a1cc3",
   "metadata": {},
   "outputs": [],
   "source": [
    "thread_local = threading.local()\n",
    "\n",
    "def get_session():\n",
    "    '''Create a new requests.Session if there is none in thread_local'''\n",
    "    if not hasattr(thread_local, \"session\"): \n",
    "        thread_local.session = requests.Session()\n",
    "    return thread_local.session"
   ]
  },
  {
   "cell_type": "code",
   "execution_count": 18,
   "id": "629ff004-b2b3-408a-950c-9597e99258f9",
   "metadata": {},
   "outputs": [],
   "source": [
    "# Defining a list to store URLs of movies without scripts\n",
    "movies_without_scripts = []\n",
    "\n",
    "def fetch_script(movie_link):\n",
    "    session = get_session()\n",
    "    try:\n",
    "        movie_dict = {}\n",
    "        base_url = \"https://imsdb.com\"\n",
    "        encoded_movie_link = quote(movie_link, safe='/:')  # Encode the movie link\n",
    "        # Constructing the full URL for the movie\n",
    "        url = base_url + encoded_movie_link\n",
    "    \n",
    "\n",
    "        # Sending a GET request to the URL\n",
    "        response = session.get(url)\n",
    "        response.raise_for_status()  # Raise an exception for unsuccessful requests\n",
    "        \n",
    "        html = lx.fromstring(response.text)\n",
    "        \n",
    "        ############ Movie Title #########################################\n",
    "        \n",
    "        title = html.xpath(\"//table[@class='script-details']/tr[1]/td/h1\")\n",
    "\n",
    "        # Check if the body_div is not empty before printing\n",
    "        if title:\n",
    "            movie_dict['title'] = title[0].text\n",
    "        else:\n",
    "            print(\"Unable to find the title.\")\n",
    "\n",
    "        \n",
    "        ############ Movie Writers #########################################    \n",
    "        writers_elements = html.xpath('''//table[@class='script-details']/tr[2]/td[2]\n",
    "                                /b[contains(text(), 'Writers')]\n",
    "                                /following::a[following::b[contains(text(), 'Genres')]]''')\n",
    "\n",
    "        if writers_elements:\n",
    "            writers = [element.text for element in writers_elements if element is not None]\n",
    "            movie_dict['writers'] = writers\n",
    "\n",
    "        ############ Movie Genres #########################################    \n",
    "        genres = html.xpath('''//table[@class='script-details']/tr[2]/td[2]\n",
    "                        /b[contains(text(), 'Genres')]\n",
    "                        /following::a[starts-with(@href, '/genre/')]''')\n",
    "        if genres:\n",
    "            genres_list = [element.text for element in genres if element is not None]\n",
    "            movie_dict['genres'] = genres_list\n",
    "            \n",
    "        ############ Movie Script Date #########################################  \n",
    "        script_date = html.xpath('''//table[@class='script-details']/tr[2]/td[2]\n",
    "                                //b[contains(text(), 'Script Date')]/following-sibling::text()[1]''')\n",
    "\n",
    "        if script_date:\n",
    "            movie_dict['date'] = script_date[0].split()[-1].strip(\"']\")\n",
    "        \n",
    "\n",
    "         ############ Movie Script ######################################### \n",
    "        script = html.xpath('''//table[@class='script-details']/tr[2]/td[2]\n",
    "                                /a[starts-with(@href, '/scripts/')]/@href''')\n",
    "\n",
    "        if script:\n",
    "            script_url = \"https://imsdb.com/\" + script[0]\n",
    "            script_response = requests.get(script_url)\n",
    "            try:\n",
    "                script_response.raise_for_status()\n",
    "                script_html = lx.fromstring(script_response.text)\n",
    "                script_text = script_html.xpath('//td[@class=\"scrtext\"]/pre')\n",
    "                movie_dict['script'] = script_text[0].text_content()  \n",
    "            except Exception as e:\n",
    "                movies_without_scripts.append(script_url)\n",
    "                movie_dict['script'] = \"\"   \n",
    "        else:\n",
    "            movie_dict['script'] = \"\"\n",
    "\n",
    "        # Returning the movie dictionary\n",
    "        return movie_dict\n",
    "            \n",
    "    except requests.exceptions.RequestException as e:\n",
    "        print(url)\n",
    "        print(\"Error during request:\", e)\n",
    "    except Exception as e:\n",
    "        print(url)\n",
    "        print(\"An error occurred:\", e)\n",
    "    \n"
   ]
  },
  {
   "cell_type": "code",
   "execution_count": 19,
   "id": "ced51499-59cb-4058-84c9-e621d8951641",
   "metadata": {},
   "outputs": [],
   "source": [
    "def perform_concurrent_threading(pages):\n",
    "    # Defining the total number of tasks\n",
    "    total_tasks = len(pages)\n",
    "    \n",
    "    # Creating a progress bar using tqdm\n",
    "    with tqdm(total=total_tasks, desc=\"Processing pages\") as progress_bar:\n",
    "        # Using ThreadPoolExecutor with tqdm to create a progress bar\n",
    "        with concurrent.futures.ThreadPoolExecutor(max_workers = 12) as executor:\n",
    "            # Using executor.map() to apply the function to each page\n",
    "            answers = list(tqdm(executor.map(fetch_script, pages), total=total_tasks, desc=\"Processing pages\", position=0))\n",
    "            progress_bar.update(total_tasks)\n",
    "\n",
    "    return answers"
   ]
  },
  {
   "cell_type": "code",
   "execution_count": 20,
   "id": "7c9fa5f5-e77c-423e-bb8f-75d657b30cb3",
   "metadata": {},
   "outputs": [
    {
     "name": "stderr",
     "output_type": "stream",
     "text": [
      "Processing pages: 100%|█████████████████████| 1221/1221 [01:08<00:00, 17.85it/s]\n",
      "Processing pages: 100%|█████████████████████| 1221/1221 [01:08<00:00, 17.84it/s]\n"
     ]
    }
   ],
   "source": [
    "movie_data = perform_concurrent_threading(movie_links)"
   ]
  },
  {
   "cell_type": "markdown",
   "id": "229a6778-cbfa-4767-b8d4-17bf5c8a7c2e",
   "metadata": {},
   "source": [
    "## Final Answer:"
   ]
  },
  {
   "cell_type": "code",
   "execution_count": 36,
   "id": "4052b5d4-dd8c-46f4-b8e9-f3a49f8c545d",
   "metadata": {},
   "outputs": [
    {
     "name": "stdout",
     "output_type": "stream",
     "text": [
      "========= Example of Information Retrieved for a Movie =========\n",
      "\n",
      "Title: 10 Things I Hate About You Script\n",
      "Writers: Karen McCullah Lutz, Kirsten Smith, William Shakespeare\n",
      "Genres: Comedy, Romance\n",
      "Date: 1997\n",
      "Script (excerpt): \n",
      "          Welcome to Padua High School,, your typical urban-suburban \n",
      "          high school in Portland, Oregon.  Smarties, Skids, Preppies, \n",
      "          Granolas. Loners, Lovers, the In and the Out Crowd rub sleep \n",
      "          out of their eyes and head for the main building.\n",
      "          \n",
      "          PADUA HIGH PARKING LOT - DAY\n",
      "          \n",
      "          KAT STRATFORD, eighteen, pretty -- but trying hard not to be \n",
      "          -- in a baggy granny dress and glasses, balances a cup of \n",
      "          coffe\n"
     ]
    }
   ],
   "source": [
    "print(\"========= Example of Information Retrieved for a Movie =========\")\n",
    "print()\n",
    "last_movie = movie_data[0]\n",
    "print(f\"Title: {last_movie['title']}\")\n",
    "print(f\"Writers: {', '.join(last_movie['writers'])}\")\n",
    "print(f\"Genres: {', '.join(last_movie['genres'])}\")\n",
    "print(f\"Date: {last_movie['date']}\")\n",
    "print(f\"Script (excerpt): \\n{last_movie['script'][500: 1000]}\")  # Print random text from the script because if I print the entire text\n",
    "                                                                # the output would look cumbersome"
   ]
  },
  {
   "cell_type": "markdown",
   "id": "c2077621-bdc9-42ee-a4f2-2831ef543381",
   "metadata": {},
   "source": [
    "=============================================================================================================================================\n",
    "The `script` field contains a string of the scraped script. Retrieve the information for all movies. _How many scripts did you retrieve?_"
   ]
  },
  {
   "cell_type": "code",
   "execution_count": 114,
   "id": "7477f332-c0d4-48d6-a91e-15e4e9d476d8",
   "metadata": {},
   "outputs": [],
   "source": [
    "movies_with_scripts = sum(1 for data in movie_data if data['script'] != \"\")"
   ]
  },
  {
   "cell_type": "markdown",
   "id": "6ced823c-717d-4a7d-8ccd-a41f07307def",
   "metadata": {},
   "source": [
    "## Final Answer:"
   ]
  },
  {
   "cell_type": "code",
   "execution_count": 115,
   "id": "89f50671-1d76-460c-a0f8-445db339d7a1",
   "metadata": {},
   "outputs": [
    {
     "name": "stdout",
     "output_type": "stream",
     "text": [
      "The number of movies that contain scripts: 1150\n"
     ]
    }
   ],
   "source": [
    "print(f\"The number of movies that contain scripts: {movies_with_scripts}\")"
   ]
  },
  {
   "cell_type": "code",
   "execution_count": 122,
   "id": "748f091c-ab83-4f99-a3c2-f20ed4466c95",
   "metadata": {},
   "outputs": [
    {
     "name": "stdout",
     "output_type": "stream",
     "text": [
      "========= Example Movie Links which do not have script =========\n"
     ]
    },
    {
     "data": {
      "text/plain": [
       "['https://imsdb.com//scripts/8-Mile.pdf',\n",
       " 'https://imsdb.com//scripts/Back-to-the-Future-II-%2526-III.pdf',\n",
       " 'https://imsdb.com//scripts/Back-to-the-Future.pdf',\n",
       " 'https://imsdb.com//scripts/Blues-Brothers,-The.pdf',\n",
       " 'https://imsdb.com//scripts/Clockwork-Orange,-A.pdf']"
      ]
     },
     "execution_count": 122,
     "metadata": {},
     "output_type": "execute_result"
    }
   ],
   "source": [
    "print(f\"========= Example Movie Links which do not have script =========\")\n",
    "movies_without_scripts[:5]"
   ]
  },
  {
   "cell_type": "markdown",
   "id": "9b612cdc",
   "metadata": {
    "tags": [
     "exercise"
    ]
   },
   "source": [
    "=============================================================================================================================================\n",
    "__(b)__ We are interested in the genres `'Musical'`, `'Horror'`, and `'Romance'`. Craft a barplot displaying the absolute counts for each of these categories. In each bar, color-code the fractions of movies that are also counted in another genres. "
   ]
  },
  {
   "cell_type": "code",
   "execution_count": 323,
   "id": "f239d782-c291-4daf-9864-726a6666dfd1",
   "metadata": {},
   "outputs": [
    {
     "name": "stderr",
     "output_type": "stream",
     "text": [
      "100%|███████████████████████████████████| 1221/1221 [00:00<00:00, 381556.04it/s]\n"
     ]
    }
   ],
   "source": [
    "movie_genres = []\n",
    "genre_counts = [[0,0,0], [0,0,0], [0,0,0]]\n",
    "\n",
    "# Iterating through each movie in the movie_data list\n",
    "for movie in tqdm(movie_data):\n",
    "    # Extracting the genres list for the current movie\n",
    "    genres_list = movie['genres']\n",
    "    movie_genres.append(genres_list)\n",
    "\n",
    "\n",
    "    if \"Musical\" in genres_list:\n",
    "        # Count Total Number of Movies in Musical Genre\n",
    "        genre_counts[0][0] = genre_counts[0][0] + 1\n",
    "        if \"Horror\" in genres_list:\n",
    "            # Count Total Number of Movies in Musical & Horror Genres\n",
    "            genre_counts[0][1] = genre_counts[0][1] + 1\n",
    "            genre_counts[1][0] = genre_counts[1][0] + 1\n",
    "        if \"Romance\" in genres_list:\n",
    "            # Count Total Number of Movies in Musical & Romance Genres\n",
    "            genre_counts[0][2] = genre_counts[0][2] + 1\n",
    "            genre_counts[2][0] = genre_counts[2][0] + 1\n",
    "\n",
    "    if \"Horror\" in genres_list:\n",
    "        # Count Total Number of Movies in Horror Genre\n",
    "        genre_counts[1][1] = genre_counts[1][1] + 1\n",
    "        # Count Total Number of Movies in Horror & Romance Genres\n",
    "        if \"Romance\" in genres_list:\n",
    "            genre_counts[1][2] = genre_counts[1][2] + 1\n",
    "            genre_counts[2][1] = genre_counts[2][1] + 1\n",
    "\n",
    "    if \"Romance\" in genres_list:\n",
    "        # Count Total Number of Movies in Horror Genre\n",
    "        genre_counts[2][2] = genre_counts[2][2] + 1\n",
    "    "
   ]
  },
  {
   "cell_type": "code",
   "execution_count": 14,
   "id": "11bd8c94-368f-4029-85ad-59510eace098",
   "metadata": {},
   "outputs": [],
   "source": [
    "genre_names = ['Musical', 'Horror', 'Romance']\n",
    "for i in range(len(genre_counts)):\n",
    "    genre_counts[i].insert(0, genre_names[i])"
   ]
  },
  {
   "cell_type": "code",
   "execution_count": 15,
   "id": "a0c1bcd9-6b85-488d-be63-40c34dc46977",
   "metadata": {},
   "outputs": [
    {
     "name": "stdout",
     "output_type": "stream",
     "text": [
      "Dataframe to store count values: \n"
     ]
    },
    {
     "data": {
      "text/html": [
       "<div>\n",
       "<style scoped>\n",
       "    .dataframe tbody tr th:only-of-type {\n",
       "        vertical-align: middle;\n",
       "    }\n",
       "\n",
       "    .dataframe tbody tr th {\n",
       "        vertical-align: top;\n",
       "    }\n",
       "\n",
       "    .dataframe thead th {\n",
       "        text-align: right;\n",
       "    }\n",
       "</style>\n",
       "<table border=\"1\" class=\"dataframe\">\n",
       "  <thead>\n",
       "    <tr style=\"text-align: right;\">\n",
       "      <th></th>\n",
       "      <th>Genre_Names</th>\n",
       "      <th>Musical</th>\n",
       "      <th>Horror</th>\n",
       "      <th>Romance</th>\n",
       "    </tr>\n",
       "  </thead>\n",
       "  <tbody>\n",
       "    <tr>\n",
       "      <th>0</th>\n",
       "      <td>Musical</td>\n",
       "      <td>27</td>\n",
       "      <td>4</td>\n",
       "      <td>5</td>\n",
       "    </tr>\n",
       "    <tr>\n",
       "      <th>1</th>\n",
       "      <td>Horror</td>\n",
       "      <td>4</td>\n",
       "      <td>158</td>\n",
       "      <td>7</td>\n",
       "    </tr>\n",
       "    <tr>\n",
       "      <th>2</th>\n",
       "      <td>Romance</td>\n",
       "      <td>5</td>\n",
       "      <td>7</td>\n",
       "      <td>211</td>\n",
       "    </tr>\n",
       "  </tbody>\n",
       "</table>\n",
       "</div>"
      ],
      "text/plain": [
       "  Genre_Names  Musical  Horror  Romance\n",
       "0     Musical       27       4        5\n",
       "1      Horror        4     158        7\n",
       "2     Romance        5       7      211"
      ]
     },
     "execution_count": 15,
     "metadata": {},
     "output_type": "execute_result"
    }
   ],
   "source": [
    "print(f\"Dataframe to store count values: \")\n",
    "df = pd.DataFrame(genre_counts, columns=['Genre_Names', 'Musical', 'Horror', 'Romance'])\n",
    "df"
   ]
  },
  {
   "cell_type": "code",
   "execution_count": 19,
   "id": "bbe55d47-0d74-4c01-9be2-c547889af16a",
   "metadata": {},
   "outputs": [
    {
     "name": "stdout",
     "output_type": "stream",
     "text": [
      "Count of Movies:\n",
      "Total Number of Movies in Musical Genre: 27\n",
      "Total Number of Movies in Musical-Horror Genre: 4\n",
      "Total Number of Movies in Musical-Romance Genre: 5\n",
      "Total Number of Movies in Horror Genre: 158\n",
      "Total Number of Movies in Horror-Romance Genre: 158\n",
      "Total Number of Movies in Romance Genre: 211\n"
     ]
    }
   ],
   "source": [
    "print(\"Count of Movies:\")\n",
    "print(f\"Total Number of Movies in Musical Genre: {df.iloc[0,1]}\")\n",
    "print(f\"Total Number of Movies in Musical-Horror Genre: {df.iloc[0, 2]}\")\n",
    "print(f\"Total Number of Movies in Musical-Romance Genre: {df.iloc[0, 3]}\")\n",
    "print(f\"Total Number of Movies in Horror Genre: {df.iloc[1, 2]}\")\n",
    "print(f\"Total Number of Movies in Horror-Romance Genre: {df.iloc[1, 2]}\")\n",
    "print(f\"Total Number of Movies in Romance Genre: {df.iloc[2, 3]}\")"
   ]
  },
  {
   "cell_type": "markdown",
   "id": "672709a6-384c-4b46-a34a-25a54677017f",
   "metadata": {},
   "source": [
    "## Final Answer:"
   ]
  },
  {
   "cell_type": "code",
   "execution_count": 334,
   "id": "88cf2013-5d39-4df5-b590-de442c7a8fd0",
   "metadata": {},
   "outputs": [
    {
     "data": {
      "image/png": "[encoded data removed]",
      "text/plain": [
       "<Figure size 640x480 with 1 Axes>"
      ]
     },
     "metadata": {},
     "output_type": "display_data"
    }
   ],
   "source": [
    "import matplotlib.pyplot as plt\n",
    "import pandas as pd\n",
    "\n",
    "# Plotting\n",
    "fig, ax = plt.subplots()\n",
    "\n",
    "# Stacked bar plot for each genre\n",
    "genres = df['Genre_Names']\n",
    "bottom = None\n",
    "for genre in genres:\n",
    "    if genre != 'Genre_Names':\n",
    "        ax.bar(genres, df[genre], label=genre, bottom=bottom)\n",
    "        bottom = df[genre] if bottom is None else bottom + df[genre]\n",
    "\n",
    "# Adding labels and title\n",
    "ax.set_xlabel('Genres')\n",
    "ax.set_ylabel('Total Movies')\n",
    "ax.set_title('Stacked Bar Chart for Each Genre')\n",
    "ax.legend()\n",
    "\n",
    "\n",
    "# Rotate x-axis labels for better readability\n",
    "plt.xticks(rotation=45)\n",
    "\n",
    "# Show plot\n",
    "plt.tight_layout()\n",
    "plt.show()\n"
   ]
  },
  {
   "cell_type": "markdown",
   "id": "8358fa83",
   "metadata": {
    "tags": [
     "exercise"
    ]
   },
   "source": [
    "=============================================================================================================================================\n",
    "__(c, i)__ Using only regex, write a function `tokenizer` that returns bigrams of all non-whitespace and non-punctuation characters, according to the test case below: \n",
    "\n",
    "```python\n",
    "test = '''\n",
    "    Neque porro quisquam est, qui dolorem ipsum quia dolor sit amet, \n",
    "    consectetur, adipisci velit, sed quia non numquam eius modi tempora \n",
    "    incidunt ut labore et dolore magnam aliquam quaerat voluptatem.\n",
    "'''\n",
    "tokenizer(test)\n",
    ">>> ['neque porro',\n",
    " 'porro quisquam',\n",
    " 'quisquam est',\n",
    " 'qui dolorem',\n",
    " 'dolorem ipsum',\n",
    " 'ipsum quia',\n",
    " 'quia dolor',\n",
    " 'dolor sit',\n",
    " 'sit amet',\n",
    " 'adipisci velit',\n",
    " 'sed quia',\n",
    " 'quia non',\n",
    " 'non numquam',\n",
    " 'numquam eius',\n",
    " 'eius modi',\n",
    " 'modi tempora',\n",
    " 'incidunt ut',\n",
    " 'ut labore',\n",
    " 'labore et',\n",
    " 'et dolore',\n",
    " 'dolore magnam',\n",
    " 'magnam aliquam',\n",
    " 'aliquam quaerat',\n",
    " 'quaerat voluptatem']\n",
    " ```"
   ]
  },
  {
   "cell_type": "code",
   "execution_count": 150,
   "id": "40a2dbc2-df5c-4201-b2b0-813c20415501",
   "metadata": {},
   "outputs": [],
   "source": [
    "sample_answer = ['neque porro',\n",
    " 'porro quisquam',\n",
    " 'quisquam est',\n",
    " 'qui dolorem',\n",
    " 'dolorem ipsum',\n",
    " 'ipsum quia',\n",
    " 'quia dolor',\n",
    " 'dolor sit',\n",
    " 'sit amet',\n",
    " 'adipisci velit',\n",
    " 'sed quia',\n",
    " 'quia non',\n",
    " 'non numquam',\n",
    " 'numquam eius',\n",
    " 'eius modi',\n",
    " 'modi tempora',\n",
    " 'incidunt ut',\n",
    " 'ut labore',\n",
    " 'labore et',\n",
    " 'et dolore',\n",
    " 'dolore magnam',\n",
    " 'magnam aliquam',\n",
    " 'aliquam quaerat',\n",
    " 'quaerat voluptatem']"
   ]
  },
  {
   "cell_type": "code",
   "execution_count": 15,
   "id": "1df7f08e-8085-4622-9616-295b93b30b70",
   "metadata": {},
   "outputs": [],
   "source": [
    "def tokenizer(text):\n",
    "    # Initializing an empty list to store bigrams\n",
    "    bigrams_main = []\n",
    "    # Removing extra whitespace and punctuation from the text using regular expressions\n",
    "    text = re.sub(r'[()\\[\\]]', '', text) \n",
    "\n",
    "    # Splitting the text into sentences using various punctuation marks and newlines as delimiters\n",
    "    splitted_text = re.split(r'[.,!?;\\n-]', text) \n",
    "    for text in splitted_text:\n",
    "        # Removing non-alphanumeric characters and multiple whitespaces from the sentence\n",
    "        cleaned_text = re.sub(r'[^\\w\\s]', '', text)\n",
    "        cleaned_text = re.sub(r'\\s+', ' ', text)\n",
    "        # Converting the cleaned sentence to lowercase\n",
    "        cleaned_text = cleaned_text.lower()\n",
    "        # Splitting the cleaned sentence into individual words\n",
    "        words = cleaned_text.split()\n",
    "\n",
    "         # A bigram is created by concatenating two consecutive words in the list\n",
    "        bigrams = [words[i] + ' ' + words[i+1] for i in range(len(words) - 1)]\n",
    "\n",
    "        # Extending the bigrams_main list with the generated bigrams\n",
    "        bigrams_main.extend(bigrams)\n",
    "    \n",
    "    return bigrams_main"
   ]
  },
  {
   "cell_type": "code",
   "execution_count": 313,
   "id": "0a1613c8-d65a-4dc6-ae9c-16b4b6023580",
   "metadata": {},
   "outputs": [],
   "source": [
    "test = '''\n",
    "    Neque porro quisquam est, qui dolorem ipsum quia dolor sit amet, \n",
    "    consectetur, adipisci velit, sed quia non numquam eius modi tempora \n",
    "    incidunt ut labore et dolore magnam aliquam quaerat voluptatem.\n",
    "'''"
   ]
  },
  {
   "cell_type": "markdown",
   "id": "440a83fd-c38c-45c5-b906-98792c77061e",
   "metadata": {},
   "source": [
    "## Final Answer:"
   ]
  },
  {
   "cell_type": "code",
   "execution_count": 314,
   "id": "a24c3756-9ccd-4be8-beca-17c3024305f7",
   "metadata": {},
   "outputs": [
    {
     "data": {
      "text/plain": [
       "['neque porro',\n",
       " 'porro quisquam',\n",
       " 'quisquam est',\n",
       " 'qui dolorem',\n",
       " 'dolorem ipsum',\n",
       " 'ipsum quia',\n",
       " 'quia dolor',\n",
       " 'dolor sit',\n",
       " 'sit amet',\n",
       " 'adipisci velit',\n",
       " 'sed quia',\n",
       " 'quia non',\n",
       " 'non numquam',\n",
       " 'numquam eius',\n",
       " 'eius modi',\n",
       " 'modi tempora',\n",
       " 'incidunt ut',\n",
       " 'ut labore',\n",
       " 'labore et',\n",
       " 'et dolore',\n",
       " 'dolore magnam',\n",
       " 'magnam aliquam',\n",
       " 'aliquam quaerat',\n",
       " 'quaerat voluptatem']"
      ]
     },
     "execution_count": 314,
     "metadata": {},
     "output_type": "execute_result"
    }
   ],
   "source": [
    "my_answer = tokenizer(test)\n",
    "my_answer"
   ]
  },
  {
   "cell_type": "code",
   "execution_count": 315,
   "id": "00878b0e-debb-4744-b26b-ff1edda8b713",
   "metadata": {},
   "outputs": [
    {
     "name": "stdout",
     "output_type": "stream",
     "text": [
      "Proof that tokenizer function returns bigrams as intended: \n"
     ]
    },
    {
     "data": {
      "text/plain": [
       "True"
      ]
     },
     "execution_count": 315,
     "metadata": {},
     "output_type": "execute_result"
    }
   ],
   "source": [
    "print(f\"Proof that tokenizer function returns bigrams as intended: \")\n",
    "sample_answer == my_answer"
   ]
  },
  {
   "cell_type": "markdown",
   "id": "1241f210",
   "metadata": {
    "tags": [
     "exercise"
    ]
   },
   "source": [
    "__(ii)__ Use the tokenizer to obtain a tf-idf vector for each movie. Perform a (non-centered) principal component analysis (`sklearn.decomposition.TruncatedSVD`). _What fraction of variation is explained by the first principal component?_ __(iii)__ Generate a strip-plot for the first principal components versus all three genres. Does visualization indicate that a good classification could result from this approach? "
   ]
  },
  {
   "cell_type": "markdown",
   "id": "9c065df0-bee8-4e4f-9502-853fb470a8be",
   "metadata": {},
   "source": [
    "=============================================================================================================================================\n",
    "__(c ii)__ Use the tokenizer to obtain a tf-idf vector for each movie. Perform a (non-centered) principal component analysis (`sklearn.decomposition.TruncatedSVD`). _What fraction of variation is explained by the first principal component?_"
   ]
  },
  {
   "cell_type": "code",
   "execution_count": 4,
   "id": "f855d1ee-8632-4d72-9894-c7f1e3ac8bfc",
   "metadata": {},
   "outputs": [],
   "source": [
    "# Filtering movie_data to include only 'Horror', 'Musical', and 'Romance' genres\n",
    "movie_data_filtered = [movie for movie in movie_data if any(genre in movie['genres'] for genre in ['Horror', 'Musical', 'Romance'])]"
   ]
  },
  {
   "cell_type": "code",
   "execution_count": 243,
   "id": "1d19878b-d50f-4550-bed7-adba87b3c043",
   "metadata": {},
   "outputs": [],
   "source": [
    "# Extracting movie descriptions and genres from filtered movie data\n",
    "descriptions = [movie['script'] for movie in movie_data_filtered]\n",
    "genres = [genre for movie in movie_data_filtered for genre in movie['genres'] if genre in ['Horror', 'Musical', 'Romance']]"
   ]
  },
  {
   "cell_type": "code",
   "execution_count": 244,
   "id": "8c7ec555-eadb-49db-8c25-5b64bd31c17d",
   "metadata": {},
   "outputs": [],
   "source": [
    "# Initializing a TfidfVectorizer object with a custom tokenizer function\n",
    "# Tokenizer function tokenizer() is used to tokenize the text data\n",
    "tfidf_vec = TfidfVectorizer(tokenizer = tokenizer) \n",
    "\n",
    "# Transforming the text data into a TF-IDF matrix\n",
    "# Fit-transforming the descriptions data using the initialized TfidfVectorizer\n",
    "# This step converts the descriptions into a TF-IDF representation\n",
    "tfidf = tfidf_vec.fit_transform(descriptions)"
   ]
  },
  {
   "cell_type": "code",
   "execution_count": 245,
   "id": "9783a927-f417-42cf-936b-51a2b7e82769",
   "metadata": {},
   "outputs": [
    {
     "data": {
      "text/plain": [
       "(380, 1201131)"
      ]
     },
     "execution_count": 245,
     "metadata": {},
     "output_type": "execute_result"
    }
   ],
   "source": [
    "tfidf.shape"
   ]
  },
  {
   "cell_type": "code",
   "execution_count": 246,
   "id": "a8c94885-39ac-450b-a7f2-e336eb14fc2f",
   "metadata": {},
   "outputs": [
    {
     "data": {
      "text/html": [
       "<style>#sk-container-id-9 {\n",
       "  /* Definition of color scheme common for light and dark mode */\n",
       "  --sklearn-color-text: black;\n",
       "  --sklearn-color-line: gray;\n",
       "  /* Definition of color scheme for unfitted estimators */\n",
       "  --sklearn-color-unfitted-level-0: #fff5e6;\n",
       "  --sklearn-color-unfitted-level-1: #f6e4d2;\n",
       "  --sklearn-color-unfitted-level-2: #ffe0b3;\n",
       "  --sklearn-color-unfitted-level-3: chocolate;\n",
       "  /* Definition of color scheme for fitted estimators */\n",
       "  --sklearn-color-fitted-level-0: #f0f8ff;\n",
       "  --sklearn-color-fitted-level-1: #d4ebff;\n",
       "  --sklearn-color-fitted-level-2: #b3dbfd;\n",
       "  --sklearn-color-fitted-level-3: cornflowerblue;\n",
       "\n",
       "  /* Specific color for light theme */\n",
       "  --sklearn-color-text-on-default-background: var(--sg-text-color, var(--theme-code-foreground, var(--jp-content-font-color1, black)));\n",
       "  --sklearn-color-background: var(--sg-background-color, var(--theme-background, var(--jp-layout-color0, white)));\n",
       "  --sklearn-color-border-box: var(--sg-text-color, var(--theme-code-foreground, var(--jp-content-font-color1, black)));\n",
       "  --sklearn-color-icon: #696969;\n",
       "\n",
       "  @media (prefers-color-scheme: dark) {\n",
       "    /* Redefinition of color scheme for dark theme */\n",
       "    --sklearn-color-text-on-default-background: var(--sg-text-color, var(--theme-code-foreground, var(--jp-content-font-color1, white)));\n",
       "    --sklearn-color-background: var(--sg-background-color, var(--theme-background, var(--jp-layout-color0, #111)));\n",
       "    --sklearn-color-border-box: var(--sg-text-color, var(--theme-code-foreground, var(--jp-content-font-color1, white)));\n",
       "    --sklearn-color-icon: #878787;\n",
       "  }\n",
       "}\n",
       "\n",
       "#sk-container-id-9 {\n",
       "  color: var(--sklearn-color-text);\n",
       "}\n",
       "\n",
       "#sk-container-id-9 pre {\n",
       "  padding: 0;\n",
       "}\n",
       "\n",
       "#sk-container-id-9 input.sk-hidden--visually {\n",
       "  border: 0;\n",
       "  clip: rect(1px 1px 1px 1px);\n",
       "  clip: rect(1px, 1px, 1px, 1px);\n",
       "  height: 1px;\n",
       "  margin: -1px;\n",
       "  overflow: hidden;\n",
       "  padding: 0;\n",
       "  position: absolute;\n",
       "  width: 1px;\n",
       "}\n",
       "\n",
       "#sk-container-id-9 div.sk-dashed-wrapped {\n",
       "  border: 1px dashed var(--sklearn-color-line);\n",
       "  margin: 0 0.4em 0.5em 0.4em;\n",
       "  box-sizing: border-box;\n",
       "  padding-bottom: 0.4em;\n",
       "  background-color: var(--sklearn-color-background);\n",
       "}\n",
       "\n",
       "#sk-container-id-9 div.sk-container {\n",
       "  /* jupyter's `normalize.less` sets `[hidden] { display: none; }`\n",
       "     but bootstrap.min.css set `[hidden] { display: none !important; }`\n",
       "     so we also need the `!important` here to be able to override the\n",
       "     default hidden behavior on the sphinx rendered scikit-learn.org.\n",
       "     See: https://github.com/scikit-learn/scikit-learn/issues/21755 */\n",
       "  display: inline-block !important;\n",
       "  position: relative;\n",
       "}\n",
       "\n",
       "#sk-container-id-9 div.sk-text-repr-fallback {\n",
       "  display: none;\n",
       "}\n",
       "\n",
       "div.sk-parallel-item,\n",
       "div.sk-serial,\n",
       "div.sk-item {\n",
       "  /* draw centered vertical line to link estimators */\n",
       "  background-image: linear-gradient(var(--sklearn-color-text-on-default-background), var(--sklearn-color-text-on-default-background));\n",
       "  background-size: 2px 100%;\n",
       "  background-repeat: no-repeat;\n",
       "  background-position: center center;\n",
       "}\n",
       "\n",
       "/* Parallel-specific style estimator block */\n",
       "\n",
       "#sk-container-id-9 div.sk-parallel-item::after {\n",
       "  content: \"\";\n",
       "  width: 100%;\n",
       "  border-bottom: 2px solid var(--sklearn-color-text-on-default-background);\n",
       "  flex-grow: 1;\n",
       "}\n",
       "\n",
       "#sk-container-id-9 div.sk-parallel {\n",
       "  display: flex;\n",
       "  align-items: stretch;\n",
       "  justify-content: center;\n",
       "  background-color: var(--sklearn-color-background);\n",
       "  position: relative;\n",
       "}\n",
       "\n",
       "#sk-container-id-9 div.sk-parallel-item {\n",
       "  display: flex;\n",
       "  flex-direction: column;\n",
       "}\n",
       "\n",
       "#sk-container-id-9 div.sk-parallel-item:first-child::after {\n",
       "  align-self: flex-end;\n",
       "  width: 50%;\n",
       "}\n",
       "\n",
       "#sk-container-id-9 div.sk-parallel-item:last-child::after {\n",
       "  align-self: flex-start;\n",
       "  width: 50%;\n",
       "}\n",
       "\n",
       "#sk-container-id-9 div.sk-parallel-item:only-child::after {\n",
       "  width: 0;\n",
       "}\n",
       "\n",
       "/* Serial-specific style estimator block */\n",
       "\n",
       "#sk-container-id-9 div.sk-serial {\n",
       "  display: flex;\n",
       "  flex-direction: column;\n",
       "  align-items: center;\n",
       "  background-color: var(--sklearn-color-background);\n",
       "  padding-right: 1em;\n",
       "  padding-left: 1em;\n",
       "}\n",
       "\n",
       "\n",
       "/* Toggleable style: style used for estimator/Pipeline/ColumnTransformer box that is\n",
       "clickable and can be expanded/collapsed.\n",
       "- Pipeline and ColumnTransformer use this feature and define the default style\n",
       "- Estimators will overwrite some part of the style using the `sk-estimator` class\n",
       "*/\n",
       "\n",
       "/* Pipeline and ColumnTransformer style (default) */\n",
       "\n",
       "#sk-container-id-9 div.sk-toggleable {\n",
       "  /* Default theme specific background. It is overwritten whether we have a\n",
       "  specific estimator or a Pipeline/ColumnTransformer */\n",
       "  background-color: var(--sklearn-color-background);\n",
       "}\n",
       "\n",
       "/* Toggleable label */\n",
       "#sk-container-id-9 label.sk-toggleable__label {\n",
       "  cursor: pointer;\n",
       "  display: block;\n",
       "  width: 100%;\n",
       "  margin-bottom: 0;\n",
       "  padding: 0.5em;\n",
       "  box-sizing: border-box;\n",
       "  text-align: center;\n",
       "}\n",
       "\n",
       "#sk-container-id-9 label.sk-toggleable__label-arrow:before {\n",
       "  /* Arrow on the left of the label */\n",
       "  content: \"▸\";\n",
       "  float: left;\n",
       "  margin-right: 0.25em;\n",
       "  color: var(--sklearn-color-icon);\n",
       "}\n",
       "\n",
       "#sk-container-id-9 label.sk-toggleable__label-arrow:hover:before {\n",
       "  color: var(--sklearn-color-text);\n",
       "}\n",
       "\n",
       "/* Toggleable content - dropdown */\n",
       "\n",
       "#sk-container-id-9 div.sk-toggleable__content {\n",
       "  max-height: 0;\n",
       "  max-width: 0;\n",
       "  overflow: hidden;\n",
       "  text-align: left;\n",
       "  /* unfitted */\n",
       "  background-color: var(--sklearn-color-unfitted-level-0);\n",
       "}\n",
       "\n",
       "#sk-container-id-9 div.sk-toggleable__content.fitted {\n",
       "  /* fitted */\n",
       "  background-color: var(--sklearn-color-fitted-level-0);\n",
       "}\n",
       "\n",
       "#sk-container-id-9 div.sk-toggleable__content pre {\n",
       "  margin: 0.2em;\n",
       "  border-radius: 0.25em;\n",
       "  color: var(--sklearn-color-text);\n",
       "  /* unfitted */\n",
       "  background-color: var(--sklearn-color-unfitted-level-0);\n",
       "}\n",
       "\n",
       "#sk-container-id-9 div.sk-toggleable__content.fitted pre {\n",
       "  /* unfitted */\n",
       "  background-color: var(--sklearn-color-fitted-level-0);\n",
       "}\n",
       "\n",
       "#sk-container-id-9 input.sk-toggleable__control:checked~div.sk-toggleable__content {\n",
       "  /* Expand drop-down */\n",
       "  max-height: 200px;\n",
       "  max-width: 100%;\n",
       "  overflow: auto;\n",
       "}\n",
       "\n",
       "#sk-container-id-9 input.sk-toggleable__control:checked~label.sk-toggleable__label-arrow:before {\n",
       "  content: \"▾\";\n",
       "}\n",
       "\n",
       "/* Pipeline/ColumnTransformer-specific style */\n",
       "\n",
       "#sk-container-id-9 div.sk-label input.sk-toggleable__control:checked~label.sk-toggleable__label {\n",
       "  color: var(--sklearn-color-text);\n",
       "  background-color: var(--sklearn-color-unfitted-level-2);\n",
       "}\n",
       "\n",
       "#sk-container-id-9 div.sk-label.fitted input.sk-toggleable__control:checked~label.sk-toggleable__label {\n",
       "  background-color: var(--sklearn-color-fitted-level-2);\n",
       "}\n",
       "\n",
       "/* Estimator-specific style */\n",
       "\n",
       "/* Colorize estimator box */\n",
       "#sk-container-id-9 div.sk-estimator input.sk-toggleable__control:checked~label.sk-toggleable__label {\n",
       "  /* unfitted */\n",
       "  background-color: var(--sklearn-color-unfitted-level-2);\n",
       "}\n",
       "\n",
       "#sk-container-id-9 div.sk-estimator.fitted input.sk-toggleable__control:checked~label.sk-toggleable__label {\n",
       "  /* fitted */\n",
       "  background-color: var(--sklearn-color-fitted-level-2);\n",
       "}\n",
       "\n",
       "#sk-container-id-9 div.sk-label label.sk-toggleable__label,\n",
       "#sk-container-id-9 div.sk-label label {\n",
       "  /* The background is the default theme color */\n",
       "  color: var(--sklearn-color-text-on-default-background);\n",
       "}\n",
       "\n",
       "/* On hover, darken the color of the background */\n",
       "#sk-container-id-9 div.sk-label:hover label.sk-toggleable__label {\n",
       "  color: var(--sklearn-color-text);\n",
       "  background-color: var(--sklearn-color-unfitted-level-2);\n",
       "}\n",
       "\n",
       "/* Label box, darken color on hover, fitted */\n",
       "#sk-container-id-9 div.sk-label.fitted:hover label.sk-toggleable__label.fitted {\n",
       "  color: var(--sklearn-color-text);\n",
       "  background-color: var(--sklearn-color-fitted-level-2);\n",
       "}\n",
       "\n",
       "/* Estimator label */\n",
       "\n",
       "#sk-container-id-9 div.sk-label label {\n",
       "  font-family: monospace;\n",
       "  font-weight: bold;\n",
       "  display: inline-block;\n",
       "  line-height: 1.2em;\n",
       "}\n",
       "\n",
       "#sk-container-id-9 div.sk-label-container {\n",
       "  text-align: center;\n",
       "}\n",
       "\n",
       "/* Estimator-specific */\n",
       "#sk-container-id-9 div.sk-estimator {\n",
       "  font-family: monospace;\n",
       "  border: 1px dotted var(--sklearn-color-border-box);\n",
       "  border-radius: 0.25em;\n",
       "  box-sizing: border-box;\n",
       "  margin-bottom: 0.5em;\n",
       "  /* unfitted */\n",
       "  background-color: var(--sklearn-color-unfitted-level-0);\n",
       "}\n",
       "\n",
       "#sk-container-id-9 div.sk-estimator.fitted {\n",
       "  /* fitted */\n",
       "  background-color: var(--sklearn-color-fitted-level-0);\n",
       "}\n",
       "\n",
       "/* on hover */\n",
       "#sk-container-id-9 div.sk-estimator:hover {\n",
       "  /* unfitted */\n",
       "  background-color: var(--sklearn-color-unfitted-level-2);\n",
       "}\n",
       "\n",
       "#sk-container-id-9 div.sk-estimator.fitted:hover {\n",
       "  /* fitted */\n",
       "  background-color: var(--sklearn-color-fitted-level-2);\n",
       "}\n",
       "\n",
       "/* Specification for estimator info (e.g. \"i\" and \"?\") */\n",
       "\n",
       "/* Common style for \"i\" and \"?\" */\n",
       "\n",
       ".sk-estimator-doc-link,\n",
       "a:link.sk-estimator-doc-link,\n",
       "a:visited.sk-estimator-doc-link {\n",
       "  float: right;\n",
       "  font-size: smaller;\n",
       "  line-height: 1em;\n",
       "  font-family: monospace;\n",
       "  background-color: var(--sklearn-color-background);\n",
       "  border-radius: 1em;\n",
       "  height: 1em;\n",
       "  width: 1em;\n",
       "  text-decoration: none !important;\n",
       "  margin-left: 1ex;\n",
       "  /* unfitted */\n",
       "  border: var(--sklearn-color-unfitted-level-1) 1pt solid;\n",
       "  color: var(--sklearn-color-unfitted-level-1);\n",
       "}\n",
       "\n",
       ".sk-estimator-doc-link.fitted,\n",
       "a:link.sk-estimator-doc-link.fitted,\n",
       "a:visited.sk-estimator-doc-link.fitted {\n",
       "  /* fitted */\n",
       "  border: var(--sklearn-color-fitted-level-1) 1pt solid;\n",
       "  color: var(--sklearn-color-fitted-level-1);\n",
       "}\n",
       "\n",
       "/* On hover */\n",
       "div.sk-estimator:hover .sk-estimator-doc-link:hover,\n",
       ".sk-estimator-doc-link:hover,\n",
       "div.sk-label-container:hover .sk-estimator-doc-link:hover,\n",
       ".sk-estimator-doc-link:hover {\n",
       "  /* unfitted */\n",
       "  background-color: var(--sklearn-color-unfitted-level-3);\n",
       "  color: var(--sklearn-color-background);\n",
       "  text-decoration: none;\n",
       "}\n",
       "\n",
       "div.sk-estimator.fitted:hover .sk-estimator-doc-link.fitted:hover,\n",
       ".sk-estimator-doc-link.fitted:hover,\n",
       "div.sk-label-container:hover .sk-estimator-doc-link.fitted:hover,\n",
       ".sk-estimator-doc-link.fitted:hover {\n",
       "  /* fitted */\n",
       "  background-color: var(--sklearn-color-fitted-level-3);\n",
       "  color: var(--sklearn-color-background);\n",
       "  text-decoration: none;\n",
       "}\n",
       "\n",
       "/* Span, style for the box shown on hovering the info icon */\n",
       ".sk-estimator-doc-link span {\n",
       "  display: none;\n",
       "  z-index: 9999;\n",
       "  position: relative;\n",
       "  font-weight: normal;\n",
       "  right: .2ex;\n",
       "  padding: .5ex;\n",
       "  margin: .5ex;\n",
       "  width: min-content;\n",
       "  min-width: 20ex;\n",
       "  max-width: 50ex;\n",
       "  color: var(--sklearn-color-text);\n",
       "  box-shadow: 2pt 2pt 4pt #999;\n",
       "  /* unfitted */\n",
       "  background: var(--sklearn-color-unfitted-level-0);\n",
       "  border: .5pt solid var(--sklearn-color-unfitted-level-3);\n",
       "}\n",
       "\n",
       ".sk-estimator-doc-link.fitted span {\n",
       "  /* fitted */\n",
       "  background: var(--sklearn-color-fitted-level-0);\n",
       "  border: var(--sklearn-color-fitted-level-3);\n",
       "}\n",
       "\n",
       ".sk-estimator-doc-link:hover span {\n",
       "  display: block;\n",
       "}\n",
       "\n",
       "/* \"?\"-specific style due to the `<a>` HTML tag */\n",
       "\n",
       "#sk-container-id-9 a.estimator_doc_link {\n",
       "  float: right;\n",
       "  font-size: 1rem;\n",
       "  line-height: 1em;\n",
       "  font-family: monospace;\n",
       "  background-color: var(--sklearn-color-background);\n",
       "  border-radius: 1rem;\n",
       "  height: 1rem;\n",
       "  width: 1rem;\n",
       "  text-decoration: none;\n",
       "  /* unfitted */\n",
       "  color: var(--sklearn-color-unfitted-level-1);\n",
       "  border: var(--sklearn-color-unfitted-level-1) 1pt solid;\n",
       "}\n",
       "\n",
       "#sk-container-id-9 a.estimator_doc_link.fitted {\n",
       "  /* fitted */\n",
       "  border: var(--sklearn-color-fitted-level-1) 1pt solid;\n",
       "  color: var(--sklearn-color-fitted-level-1);\n",
       "}\n",
       "\n",
       "/* On hover */\n",
       "#sk-container-id-9 a.estimator_doc_link:hover {\n",
       "  /* unfitted */\n",
       "  background-color: var(--sklearn-color-unfitted-level-3);\n",
       "  color: var(--sklearn-color-background);\n",
       "  text-decoration: none;\n",
       "}\n",
       "\n",
       "#sk-container-id-9 a.estimator_doc_link.fitted:hover {\n",
       "  /* fitted */\n",
       "  background-color: var(--sklearn-color-fitted-level-3);\n",
       "}\n",
       "</style><div id=\"sk-container-id-9\" class=\"sk-top-container\"><div class=\"sk-text-repr-fallback\"><pre>TruncatedSVD(n_components=1)</pre><b>In a Jupyter environment, please rerun this cell to show the HTML representation or trust the notebook. <br />On GitHub, the HTML representation is unable to render, please try loading this page with nbviewer.org.</b></div><div class=\"sk-container\" hidden><div class=\"sk-item\"><div class=\"sk-estimator fitted sk-toggleable\"><input class=\"sk-toggleable__control sk-hidden--visually\" id=\"sk-estimator-id-9\" type=\"checkbox\" checked><label for=\"sk-estimator-id-9\" class=\"sk-toggleable__label fitted sk-toggleable__label-arrow fitted\">&nbsp;&nbsp;TruncatedSVD<a class=\"sk-estimator-doc-link fitted\" rel=\"noreferrer\" target=\"_blank\" href=\"https://scikit-learn.org/1.4/modules/generated/sklearn.decomposition.TruncatedSVD.html\">?<span>Documentation for TruncatedSVD</span></a><span class=\"sk-estimator-doc-link fitted\">i<span>Fitted</span></span></label><div class=\"sk-toggleable__content fitted\"><pre>TruncatedSVD(n_components=1)</pre></div> </div></div></div></div>"
      ],
      "text/plain": [
       "TruncatedSVD(n_components=1)"
      ]
     },
     "execution_count": 246,
     "metadata": {},
     "output_type": "execute_result"
    }
   ],
   "source": [
    "# Initializing TruncatedSVD with the desired number of components (in this case, 1 component)\n",
    "pca = TruncatedSVD(n_components=1)\n",
    "\n",
    "# Fitting TruncatedSVD to the transposed TF-IDF matrix\n",
    "pca.fit(tfidf.T)"
   ]
  },
  {
   "cell_type": "markdown",
   "id": "3052185e-0c44-42ba-a6d9-311cfeeded1d",
   "metadata": {},
   "source": [
    "## Final Answer:"
   ]
  },
  {
   "cell_type": "code",
   "execution_count": 247,
   "id": "426226d1-efee-4cc8-a04a-0216de052caf",
   "metadata": {},
   "outputs": [
    {
     "name": "stdout",
     "output_type": "stream",
     "text": [
      "Fraction of variation explained by the first principal component: 2.8693667009199373e-05\n"
     ]
    }
   ],
   "source": [
    "# Obtaining the fraction of variance explained by the first principal component\n",
    "fraction_of_variance_explained = pca.explained_variance_\n",
    "\n",
    "# The explained_variance_ attribute of TruncatedSVD contains the variance explained by each of the selected components\n",
    "# Since we only have one component in this case (n_components=1), we access the first element of the array to get the \n",
    "# fraction of variance explained by the first principal component\n",
    "print(f\"Fraction of variation explained by the first principal component: {fraction_of_variance_explained[0]}\")"
   ]
  },
  {
   "cell_type": "markdown",
   "id": "4cf9421f-b6bb-4ba7-99b4-4552c0e6bdfe",
   "metadata": {},
   "source": [
    "#### ================ If I remove Null scripts ========================="
   ]
  },
  {
   "cell_type": "code",
   "execution_count": 37,
   "id": "207d893b-f60e-4769-8fac-0e1d6149deb8",
   "metadata": {},
   "outputs": [],
   "source": [
    "# Filtering movie_data to include only 'Horror', 'Musical', and 'Romance' genres\n",
    "movie_data_filtered = [movie for movie in movie_data if movie['script'] != \"\" if any(genre in movie['genres'] for genre in ['Horror', 'Musical', 'Romance'])]"
   ]
  },
  {
   "cell_type": "code",
   "execution_count": 38,
   "id": "df761afe-7a08-4aec-aa59-f3e3fe7bf38f",
   "metadata": {},
   "outputs": [],
   "source": [
    "# Extracting movie descriptions and genres from filtered movie data\n",
    "descriptions = [movie['script'] for movie in movie_data_filtered]\n",
    "genres = [genre for movie in movie_data_filtered for genre in movie['genres'] if genre in ['Horror', 'Musical', 'Romance']]"
   ]
  },
  {
   "cell_type": "code",
   "execution_count": 39,
   "id": "819b4894-244c-4a48-be4e-142f9033c866",
   "metadata": {},
   "outputs": [
    {
     "name": "stderr",
     "output_type": "stream",
     "text": [
      "/Library/Frameworks/Python.framework/Versions/3.12/lib/python3.12/site-packages/sklearn/feature_extraction/text.py:525: UserWarning: The parameter 'token_pattern' will not be used since 'tokenizer' is not None'\n",
      "  warnings.warn(\n"
     ]
    }
   ],
   "source": [
    "# Initializing a TfidfVectorizer object with a custom tokenizer function\n",
    "# Tokenizer function tokenizer() is used to tokenize the text data\n",
    "tfidf_vec = TfidfVectorizer(tokenizer = tokenizer) \n",
    "\n",
    "# Transforming the text data into a TF-IDF matrix\n",
    "# Fit-transforming the descriptions data using the initialized TfidfVectorizer\n",
    "# This step converts the descriptions into a TF-IDF representation\n",
    "tfidf = tfidf_vec.fit_transform(descriptions)"
   ]
  },
  {
   "cell_type": "code",
   "execution_count": 40,
   "id": "b3bbbe53-e2a7-47a5-92c0-fad6db28c6b1",
   "metadata": {},
   "outputs": [
    {
     "data": {
      "text/plain": [
       "(365, 1104555)"
      ]
     },
     "execution_count": 40,
     "metadata": {},
     "output_type": "execute_result"
    }
   ],
   "source": [
    "tfidf.shape"
   ]
  },
  {
   "cell_type": "code",
   "execution_count": 41,
   "id": "6b9c726c-3421-43b2-a951-bc4fc11f0cf8",
   "metadata": {},
   "outputs": [
    {
     "data": {
      "text/html": [
       "<style>#sk-container-id-2 {\n",
       "  /* Definition of color scheme common for light and dark mode */\n",
       "  --sklearn-color-text: black;\n",
       "  --sklearn-color-line: gray;\n",
       "  /* Definition of color scheme for unfitted estimators */\n",
       "  --sklearn-color-unfitted-level-0: #fff5e6;\n",
       "  --sklearn-color-unfitted-level-1: #f6e4d2;\n",
       "  --sklearn-color-unfitted-level-2: #ffe0b3;\n",
       "  --sklearn-color-unfitted-level-3: chocolate;\n",
       "  /* Definition of color scheme for fitted estimators */\n",
       "  --sklearn-color-fitted-level-0: #f0f8ff;\n",
       "  --sklearn-color-fitted-level-1: #d4ebff;\n",
       "  --sklearn-color-fitted-level-2: #b3dbfd;\n",
       "  --sklearn-color-fitted-level-3: cornflowerblue;\n",
       "\n",
       "  /* Specific color for light theme */\n",
       "  --sklearn-color-text-on-default-background: var(--sg-text-color, var(--theme-code-foreground, var(--jp-content-font-color1, black)));\n",
       "  --sklearn-color-background: var(--sg-background-color, var(--theme-background, var(--jp-layout-color0, white)));\n",
       "  --sklearn-color-border-box: var(--sg-text-color, var(--theme-code-foreground, var(--jp-content-font-color1, black)));\n",
       "  --sklearn-color-icon: #696969;\n",
       "\n",
       "  @media (prefers-color-scheme: dark) {\n",
       "    /* Redefinition of color scheme for dark theme */\n",
       "    --sklearn-color-text-on-default-background: var(--sg-text-color, var(--theme-code-foreground, var(--jp-content-font-color1, white)));\n",
       "    --sklearn-color-background: var(--sg-background-color, var(--theme-background, var(--jp-layout-color0, #111)));\n",
       "    --sklearn-color-border-box: var(--sg-text-color, var(--theme-code-foreground, var(--jp-content-font-color1, white)));\n",
       "    --sklearn-color-icon: #878787;\n",
       "  }\n",
       "}\n",
       "\n",
       "#sk-container-id-2 {\n",
       "  color: var(--sklearn-color-text);\n",
       "}\n",
       "\n",
       "#sk-container-id-2 pre {\n",
       "  padding: 0;\n",
       "}\n",
       "\n",
       "#sk-container-id-2 input.sk-hidden--visually {\n",
       "  border: 0;\n",
       "  clip: rect(1px 1px 1px 1px);\n",
       "  clip: rect(1px, 1px, 1px, 1px);\n",
       "  height: 1px;\n",
       "  margin: -1px;\n",
       "  overflow: hidden;\n",
       "  padding: 0;\n",
       "  position: absolute;\n",
       "  width: 1px;\n",
       "}\n",
       "\n",
       "#sk-container-id-2 div.sk-dashed-wrapped {\n",
       "  border: 1px dashed var(--sklearn-color-line);\n",
       "  margin: 0 0.4em 0.5em 0.4em;\n",
       "  box-sizing: border-box;\n",
       "  padding-bottom: 0.4em;\n",
       "  background-color: var(--sklearn-color-background);\n",
       "}\n",
       "\n",
       "#sk-container-id-2 div.sk-container {\n",
       "  /* jupyter's `normalize.less` sets `[hidden] { display: none; }`\n",
       "     but bootstrap.min.css set `[hidden] { display: none !important; }`\n",
       "     so we also need the `!important` here to be able to override the\n",
       "     default hidden behavior on the sphinx rendered scikit-learn.org.\n",
       "     See: https://github.com/scikit-learn/scikit-learn/issues/21755 */\n",
       "  display: inline-block !important;\n",
       "  position: relative;\n",
       "}\n",
       "\n",
       "#sk-container-id-2 div.sk-text-repr-fallback {\n",
       "  display: none;\n",
       "}\n",
       "\n",
       "div.sk-parallel-item,\n",
       "div.sk-serial,\n",
       "div.sk-item {\n",
       "  /* draw centered vertical line to link estimators */\n",
       "  background-image: linear-gradient(var(--sklearn-color-text-on-default-background), var(--sklearn-color-text-on-default-background));\n",
       "  background-size: 2px 100%;\n",
       "  background-repeat: no-repeat;\n",
       "  background-position: center center;\n",
       "}\n",
       "\n",
       "/* Parallel-specific style estimator block */\n",
       "\n",
       "#sk-container-id-2 div.sk-parallel-item::after {\n",
       "  content: \"\";\n",
       "  width: 100%;\n",
       "  border-bottom: 2px solid var(--sklearn-color-text-on-default-background);\n",
       "  flex-grow: 1;\n",
       "}\n",
       "\n",
       "#sk-container-id-2 div.sk-parallel {\n",
       "  display: flex;\n",
       "  align-items: stretch;\n",
       "  justify-content: center;\n",
       "  background-color: var(--sklearn-color-background);\n",
       "  position: relative;\n",
       "}\n",
       "\n",
       "#sk-container-id-2 div.sk-parallel-item {\n",
       "  display: flex;\n",
       "  flex-direction: column;\n",
       "}\n",
       "\n",
       "#sk-container-id-2 div.sk-parallel-item:first-child::after {\n",
       "  align-self: flex-end;\n",
       "  width: 50%;\n",
       "}\n",
       "\n",
       "#sk-container-id-2 div.sk-parallel-item:last-child::after {\n",
       "  align-self: flex-start;\n",
       "  width: 50%;\n",
       "}\n",
       "\n",
       "#sk-container-id-2 div.sk-parallel-item:only-child::after {\n",
       "  width: 0;\n",
       "}\n",
       "\n",
       "/* Serial-specific style estimator block */\n",
       "\n",
       "#sk-container-id-2 div.sk-serial {\n",
       "  display: flex;\n",
       "  flex-direction: column;\n",
       "  align-items: center;\n",
       "  background-color: var(--sklearn-color-background);\n",
       "  padding-right: 1em;\n",
       "  padding-left: 1em;\n",
       "}\n",
       "\n",
       "\n",
       "/* Toggleable style: style used for estimator/Pipeline/ColumnTransformer box that is\n",
       "clickable and can be expanded/collapsed.\n",
       "- Pipeline and ColumnTransformer use this feature and define the default style\n",
       "- Estimators will overwrite some part of the style using the `sk-estimator` class\n",
       "*/\n",
       "\n",
       "/* Pipeline and ColumnTransformer style (default) */\n",
       "\n",
       "#sk-container-id-2 div.sk-toggleable {\n",
       "  /* Default theme specific background. It is overwritten whether we have a\n",
       "  specific estimator or a Pipeline/ColumnTransformer */\n",
       "  background-color: var(--sklearn-color-background);\n",
       "}\n",
       "\n",
       "/* Toggleable label */\n",
       "#sk-container-id-2 label.sk-toggleable__label {\n",
       "  cursor: pointer;\n",
       "  display: block;\n",
       "  width: 100%;\n",
       "  margin-bottom: 0;\n",
       "  padding: 0.5em;\n",
       "  box-sizing: border-box;\n",
       "  text-align: center;\n",
       "}\n",
       "\n",
       "#sk-container-id-2 label.sk-toggleable__label-arrow:before {\n",
       "  /* Arrow on the left of the label */\n",
       "  content: \"▸\";\n",
       "  float: left;\n",
       "  margin-right: 0.25em;\n",
       "  color: var(--sklearn-color-icon);\n",
       "}\n",
       "\n",
       "#sk-container-id-2 label.sk-toggleable__label-arrow:hover:before {\n",
       "  color: var(--sklearn-color-text);\n",
       "}\n",
       "\n",
       "/* Toggleable content - dropdown */\n",
       "\n",
       "#sk-container-id-2 div.sk-toggleable__content {\n",
       "  max-height: 0;\n",
       "  max-width: 0;\n",
       "  overflow: hidden;\n",
       "  text-align: left;\n",
       "  /* unfitted */\n",
       "  background-color: var(--sklearn-color-unfitted-level-0);\n",
       "}\n",
       "\n",
       "#sk-container-id-2 div.sk-toggleable__content.fitted {\n",
       "  /* fitted */\n",
       "  background-color: var(--sklearn-color-fitted-level-0);\n",
       "}\n",
       "\n",
       "#sk-container-id-2 div.sk-toggleable__content pre {\n",
       "  margin: 0.2em;\n",
       "  border-radius: 0.25em;\n",
       "  color: var(--sklearn-color-text);\n",
       "  /* unfitted */\n",
       "  background-color: var(--sklearn-color-unfitted-level-0);\n",
       "}\n",
       "\n",
       "#sk-container-id-2 div.sk-toggleable__content.fitted pre {\n",
       "  /* unfitted */\n",
       "  background-color: var(--sklearn-color-fitted-level-0);\n",
       "}\n",
       "\n",
       "#sk-container-id-2 input.sk-toggleable__control:checked~div.sk-toggleable__content {\n",
       "  /* Expand drop-down */\n",
       "  max-height: 200px;\n",
       "  max-width: 100%;\n",
       "  overflow: auto;\n",
       "}\n",
       "\n",
       "#sk-container-id-2 input.sk-toggleable__control:checked~label.sk-toggleable__label-arrow:before {\n",
       "  content: \"▾\";\n",
       "}\n",
       "\n",
       "/* Pipeline/ColumnTransformer-specific style */\n",
       "\n",
       "#sk-container-id-2 div.sk-label input.sk-toggleable__control:checked~label.sk-toggleable__label {\n",
       "  color: var(--sklearn-color-text);\n",
       "  background-color: var(--sklearn-color-unfitted-level-2);\n",
       "}\n",
       "\n",
       "#sk-container-id-2 div.sk-label.fitted input.sk-toggleable__control:checked~label.sk-toggleable__label {\n",
       "  background-color: var(--sklearn-color-fitted-level-2);\n",
       "}\n",
       "\n",
       "/* Estimator-specific style */\n",
       "\n",
       "/* Colorize estimator box */\n",
       "#sk-container-id-2 div.sk-estimator input.sk-toggleable__control:checked~label.sk-toggleable__label {\n",
       "  /* unfitted */\n",
       "  background-color: var(--sklearn-color-unfitted-level-2);\n",
       "}\n",
       "\n",
       "#sk-container-id-2 div.sk-estimator.fitted input.sk-toggleable__control:checked~label.sk-toggleable__label {\n",
       "  /* fitted */\n",
       "  background-color: var(--sklearn-color-fitted-level-2);\n",
       "}\n",
       "\n",
       "#sk-container-id-2 div.sk-label label.sk-toggleable__label,\n",
       "#sk-container-id-2 div.sk-label label {\n",
       "  /* The background is the default theme color */\n",
       "  color: var(--sklearn-color-text-on-default-background);\n",
       "}\n",
       "\n",
       "/* On hover, darken the color of the background */\n",
       "#sk-container-id-2 div.sk-label:hover label.sk-toggleable__label {\n",
       "  color: var(--sklearn-color-text);\n",
       "  background-color: var(--sklearn-color-unfitted-level-2);\n",
       "}\n",
       "\n",
       "/* Label box, darken color on hover, fitted */\n",
       "#sk-container-id-2 div.sk-label.fitted:hover label.sk-toggleable__label.fitted {\n",
       "  color: var(--sklearn-color-text);\n",
       "  background-color: var(--sklearn-color-fitted-level-2);\n",
       "}\n",
       "\n",
       "/* Estimator label */\n",
       "\n",
       "#sk-container-id-2 div.sk-label label {\n",
       "  font-family: monospace;\n",
       "  font-weight: bold;\n",
       "  display: inline-block;\n",
       "  line-height: 1.2em;\n",
       "}\n",
       "\n",
       "#sk-container-id-2 div.sk-label-container {\n",
       "  text-align: center;\n",
       "}\n",
       "\n",
       "/* Estimator-specific */\n",
       "#sk-container-id-2 div.sk-estimator {\n",
       "  font-family: monospace;\n",
       "  border: 1px dotted var(--sklearn-color-border-box);\n",
       "  border-radius: 0.25em;\n",
       "  box-sizing: border-box;\n",
       "  margin-bottom: 0.5em;\n",
       "  /* unfitted */\n",
       "  background-color: var(--sklearn-color-unfitted-level-0);\n",
       "}\n",
       "\n",
       "#sk-container-id-2 div.sk-estimator.fitted {\n",
       "  /* fitted */\n",
       "  background-color: var(--sklearn-color-fitted-level-0);\n",
       "}\n",
       "\n",
       "/* on hover */\n",
       "#sk-container-id-2 div.sk-estimator:hover {\n",
       "  /* unfitted */\n",
       "  background-color: var(--sklearn-color-unfitted-level-2);\n",
       "}\n",
       "\n",
       "#sk-container-id-2 div.sk-estimator.fitted:hover {\n",
       "  /* fitted */\n",
       "  background-color: var(--sklearn-color-fitted-level-2);\n",
       "}\n",
       "\n",
       "/* Specification for estimator info (e.g. \"i\" and \"?\") */\n",
       "\n",
       "/* Common style for \"i\" and \"?\" */\n",
       "\n",
       ".sk-estimator-doc-link,\n",
       "a:link.sk-estimator-doc-link,\n",
       "a:visited.sk-estimator-doc-link {\n",
       "  float: right;\n",
       "  font-size: smaller;\n",
       "  line-height: 1em;\n",
       "  font-family: monospace;\n",
       "  background-color: var(--sklearn-color-background);\n",
       "  border-radius: 1em;\n",
       "  height: 1em;\n",
       "  width: 1em;\n",
       "  text-decoration: none !important;\n",
       "  margin-left: 1ex;\n",
       "  /* unfitted */\n",
       "  border: var(--sklearn-color-unfitted-level-1) 1pt solid;\n",
       "  color: var(--sklearn-color-unfitted-level-1);\n",
       "}\n",
       "\n",
       ".sk-estimator-doc-link.fitted,\n",
       "a:link.sk-estimator-doc-link.fitted,\n",
       "a:visited.sk-estimator-doc-link.fitted {\n",
       "  /* fitted */\n",
       "  border: var(--sklearn-color-fitted-level-1) 1pt solid;\n",
       "  color: var(--sklearn-color-fitted-level-1);\n",
       "}\n",
       "\n",
       "/* On hover */\n",
       "div.sk-estimator:hover .sk-estimator-doc-link:hover,\n",
       ".sk-estimator-doc-link:hover,\n",
       "div.sk-label-container:hover .sk-estimator-doc-link:hover,\n",
       ".sk-estimator-doc-link:hover {\n",
       "  /* unfitted */\n",
       "  background-color: var(--sklearn-color-unfitted-level-3);\n",
       "  color: var(--sklearn-color-background);\n",
       "  text-decoration: none;\n",
       "}\n",
       "\n",
       "div.sk-estimator.fitted:hover .sk-estimator-doc-link.fitted:hover,\n",
       ".sk-estimator-doc-link.fitted:hover,\n",
       "div.sk-label-container:hover .sk-estimator-doc-link.fitted:hover,\n",
       ".sk-estimator-doc-link.fitted:hover {\n",
       "  /* fitted */\n",
       "  background-color: var(--sklearn-color-fitted-level-3);\n",
       "  color: var(--sklearn-color-background);\n",
       "  text-decoration: none;\n",
       "}\n",
       "\n",
       "/* Span, style for the box shown on hovering the info icon */\n",
       ".sk-estimator-doc-link span {\n",
       "  display: none;\n",
       "  z-index: 9999;\n",
       "  position: relative;\n",
       "  font-weight: normal;\n",
       "  right: .2ex;\n",
       "  padding: .5ex;\n",
       "  margin: .5ex;\n",
       "  width: min-content;\n",
       "  min-width: 20ex;\n",
       "  max-width: 50ex;\n",
       "  color: var(--sklearn-color-text);\n",
       "  box-shadow: 2pt 2pt 4pt #999;\n",
       "  /* unfitted */\n",
       "  background: var(--sklearn-color-unfitted-level-0);\n",
       "  border: .5pt solid var(--sklearn-color-unfitted-level-3);\n",
       "}\n",
       "\n",
       ".sk-estimator-doc-link.fitted span {\n",
       "  /* fitted */\n",
       "  background: var(--sklearn-color-fitted-level-0);\n",
       "  border: var(--sklearn-color-fitted-level-3);\n",
       "}\n",
       "\n",
       ".sk-estimator-doc-link:hover span {\n",
       "  display: block;\n",
       "}\n",
       "\n",
       "/* \"?\"-specific style due to the `<a>` HTML tag */\n",
       "\n",
       "#sk-container-id-2 a.estimator_doc_link {\n",
       "  float: right;\n",
       "  font-size: 1rem;\n",
       "  line-height: 1em;\n",
       "  font-family: monospace;\n",
       "  background-color: var(--sklearn-color-background);\n",
       "  border-radius: 1rem;\n",
       "  height: 1rem;\n",
       "  width: 1rem;\n",
       "  text-decoration: none;\n",
       "  /* unfitted */\n",
       "  color: var(--sklearn-color-unfitted-level-1);\n",
       "  border: var(--sklearn-color-unfitted-level-1) 1pt solid;\n",
       "}\n",
       "\n",
       "#sk-container-id-2 a.estimator_doc_link.fitted {\n",
       "  /* fitted */\n",
       "  border: var(--sklearn-color-fitted-level-1) 1pt solid;\n",
       "  color: var(--sklearn-color-fitted-level-1);\n",
       "}\n",
       "\n",
       "/* On hover */\n",
       "#sk-container-id-2 a.estimator_doc_link:hover {\n",
       "  /* unfitted */\n",
       "  background-color: var(--sklearn-color-unfitted-level-3);\n",
       "  color: var(--sklearn-color-background);\n",
       "  text-decoration: none;\n",
       "}\n",
       "\n",
       "#sk-container-id-2 a.estimator_doc_link.fitted:hover {\n",
       "  /* fitted */\n",
       "  background-color: var(--sklearn-color-fitted-level-3);\n",
       "}\n",
       "</style><div id=\"sk-container-id-2\" class=\"sk-top-container\"><div class=\"sk-text-repr-fallback\"><pre>TruncatedSVD(n_components=1)</pre><b>In a Jupyter environment, please rerun this cell to show the HTML representation or trust the notebook. <br />On GitHub, the HTML representation is unable to render, please try loading this page with nbviewer.org.</b></div><div class=\"sk-container\" hidden><div class=\"sk-item\"><div class=\"sk-estimator fitted sk-toggleable\"><input class=\"sk-toggleable__control sk-hidden--visually\" id=\"sk-estimator-id-2\" type=\"checkbox\" checked><label for=\"sk-estimator-id-2\" class=\"sk-toggleable__label fitted sk-toggleable__label-arrow fitted\">&nbsp;&nbsp;TruncatedSVD<a class=\"sk-estimator-doc-link fitted\" rel=\"noreferrer\" target=\"_blank\" href=\"https://scikit-learn.org/1.4/modules/generated/sklearn.decomposition.TruncatedSVD.html\">?<span>Documentation for TruncatedSVD</span></a><span class=\"sk-estimator-doc-link fitted\">i<span>Fitted</span></span></label><div class=\"sk-toggleable__content fitted\"><pre>TruncatedSVD(n_components=1)</pre></div> </div></div></div></div>"
      ],
      "text/plain": [
       "TruncatedSVD(n_components=1)"
      ]
     },
     "execution_count": 41,
     "metadata": {},
     "output_type": "execute_result"
    }
   ],
   "source": [
    "# Initializing TruncatedSVD with the desired number of components (in this case, 1 component)\n",
    "pca = TruncatedSVD(n_components=1)\n",
    "\n",
    "# Fitting TruncatedSVD to the transposed TF-IDF matrix\n",
    "pca.fit(tfidf.T)"
   ]
  },
  {
   "cell_type": "markdown",
   "id": "1c304faa-db64-4b4d-9096-25fc42c838e1",
   "metadata": {},
   "source": [
    "## Final Answer:"
   ]
  },
  {
   "cell_type": "code",
   "execution_count": 42,
   "id": "202de6c5-be3c-41f7-8af1-82c92839ddb7",
   "metadata": {},
   "outputs": [
    {
     "name": "stdout",
     "output_type": "stream",
     "text": [
      "Fraction of variation explained by the first principal component: 3.1132681022237206e-05\n"
     ]
    }
   ],
   "source": [
    "# Obtaining the fraction of variance explained by the first principal component\n",
    "fraction_of_variance_explained = pca.explained_variance_\n",
    "\n",
    "# The explained_variance_ attribute of TruncatedSVD contains the variance explained by each of the selected components\n",
    "# Since we only have one component in this case (n_components=1), we access the first element of the array to get the \n",
    "# fraction of variance explained by the first principal component\n",
    "print(f\"Fraction of variation explained by the first principal component: {fraction_of_variance_explained[0]}\")"
   ]
  },
  {
   "cell_type": "markdown",
   "id": "90c82227-0004-47d6-a8e7-59116ae1327a",
   "metadata": {},
   "source": [
    "=============================================================================================================================================\n",
    "__(c iii)__ Generate a strip-plot for the first principal components versus all three genres. Does visualization indicate that a good classification could result from this approach? "
   ]
  },
  {
   "cell_type": "code",
   "execution_count": 335,
   "id": "d7d986bf-30d2-467d-bb3b-3e10485fffbb",
   "metadata": {},
   "outputs": [
    {
     "name": "stdout",
     "output_type": "stream",
     "text": [
      "Principal Components Shape: (380, 1)\n"
     ]
    },
    {
     "data": {
      "text/plain": [
       "array([[5.08006784e-02, 4.09065566e-02, 5.91091139e-02, 4.48181787e-02,\n",
       "        9.68426900e-25, 6.24605709e-02, 2.72987625e-02, 5.63759472e-02,\n",
       "        2.10343613e-02, 4.74172415e-02, 3.17737599e-02, 4.28734094e-02,\n",
       "        6.04319846e-02, 5.49639297e-02, 3.58403750e-02, 5.37350105e-02,\n",
       "        6.04645257e-02, 6.19720458e-02, 4.97665266e-02, 5.67941981e-02,\n",
       "        5.36335550e-02, 5.02179351e-02, 4.88267961e-02, 4.64732659e-02,\n",
       "        5.15369124e-02, 6.97110853e-02, 6.20130988e-02, 6.42862819e-02,\n",
       "        3.85113892e-02, 4.72763374e-02, 5.73495614e-02, 6.03373525e-02,\n",
       "        4.92424845e-02, 6.10082414e-02, 2.99498246e-02, 5.29709609e-02,\n",
       "        3.94160391e-02, 3.76814646e-02, 1.65347344e-02, 0.00000000e+00,\n",
       "        6.17793363e-02, 4.71985838e-02, 4.59416038e-02, 5.53540954e-02,\n",
       "        6.13207447e-02, 5.98110708e-02, 5.37294277e-02, 5.36198006e-02,\n",
       "        5.55008004e-02, 2.41963407e-02, 5.72103245e-02, 4.97578024e-02,\n",
       "        8.05191093e-02, 6.92932919e-02, 6.31555989e-02, 5.19773803e-02,\n",
       "        6.71390821e-02, 6.96095257e-02, 4.74899011e-02, 5.33334384e-02,\n",
       "        6.81139938e-02, 5.48550740e-02, 4.71580590e-02, 5.05498537e-02,\n",
       "        5.52540552e-02, 0.00000000e+00, 6.70761410e-02, 3.10954340e-02,\n",
       "        4.75430948e-02, 6.36740097e-02, 5.58676308e-02, 6.66323493e-02,\n",
       "        6.23753574e-02, 4.09705291e-02, 6.91343279e-02, 3.57201419e-02,\n",
       "        5.52759457e-02, 7.18640001e-02, 6.24722354e-02, 5.68246396e-02,\n",
       "        7.68605633e-02, 6.34889009e-02, 5.25787139e-02, 4.55485195e-02,\n",
       "        2.47474561e-02, 5.27947475e-02, 4.14551969e-02, 4.50422714e-02,\n",
       "        5.94239073e-02, 4.58837506e-02, 3.40009437e-02, 3.72807916e-02,\n",
       "        4.60900324e-02, 8.05788474e-02, 6.31042958e-02, 5.45898278e-02,\n",
       "        5.47862264e-02, 5.77431601e-02, 2.67244232e-02, 3.35789764e-02,\n",
       "        5.88089978e-02, 3.74119915e-02, 3.65303047e-02, 5.41017644e-02,\n",
       "        5.51308815e-02, 5.31342315e-02, 4.58635566e-02, 1.95033156e-02,\n",
       "        4.98334053e-02, 3.65447291e-02, 5.00363932e-02, 6.69055767e-02,\n",
       "        4.77537018e-02, 3.62425483e-02, 3.72507274e-02, 4.62911330e-02,\n",
       "        5.99961609e-02, 6.01058063e-02, 0.00000000e+00, 5.55692591e-02,\n",
       "        6.69875158e-02, 3.15985488e-02, 5.37667055e-02, 5.18093678e-02,\n",
       "        5.35198335e-02, 5.44823357e-02, 6.55157421e-02, 4.97793243e-02,\n",
       "        2.15938080e-02, 4.27146036e-02, 0.00000000e+00, 5.08145920e-02,\n",
       "        2.14553319e-02, 7.96087493e-02, 4.75017754e-02, 3.09951874e-02,\n",
       "        5.49797768e-02, 5.11440426e-02, 6.29472830e-02, 5.63327844e-02,\n",
       "        4.88994900e-02, 4.83276468e-02, 5.61146347e-02, 5.32750978e-02,\n",
       "        7.27770782e-02, 6.81516487e-02, 3.03858008e-02, 0.00000000e+00,\n",
       "        6.73469996e-02, 5.67287663e-02, 4.97441193e-02, 5.30553104e-02,\n",
       "        7.18463936e-02, 5.47457534e-02, 6.14699918e-02, 6.40158436e-02,\n",
       "        7.57965533e-02, 5.68373452e-02, 3.28457309e-02, 6.43159199e-02,\n",
       "        5.20418007e-02, 5.03125658e-02, 4.89166512e-02, 3.38026899e-02,\n",
       "        6.74745117e-02, 6.61551505e-02, 3.97652581e-02, 5.59767117e-02,\n",
       "        2.06528609e-02, 2.46679043e-02, 6.83214314e-02, 5.86044878e-02,\n",
       "        5.47248636e-02, 5.37461665e-02, 4.90801981e-02, 6.32868265e-02,\n",
       "        6.76936417e-02, 6.76936417e-02, 3.98177107e-02, 6.00817792e-02,\n",
       "        1.74262309e-02, 4.10652249e-02, 6.08328383e-02, 5.92453377e-02,\n",
       "        4.71255909e-02, 6.27220128e-02, 4.25006047e-02, 5.84250794e-02,\n",
       "        6.05903412e-02, 8.50009165e-02, 5.65257789e-02, 4.74972249e-02,\n",
       "        3.71679743e-02, 4.39498634e-02, 7.34170034e-02, 5.19284350e-02,\n",
       "        3.96525031e-02, 4.56661893e-02, 1.27988324e-02, 3.57238660e-02,\n",
       "        4.98907522e-02, 4.72174193e-02, 7.06745805e-02, 4.07050482e-02,\n",
       "        4.86707598e-02, 6.41846069e-02, 6.13107023e-02, 0.00000000e+00,\n",
       "        2.60442766e-02, 4.54674620e-02, 5.44084119e-02, 6.40006579e-02,\n",
       "        5.24907840e-02, 4.46327343e-02, 6.38167760e-02, 6.13744689e-02,\n",
       "        6.74467422e-02, 5.20455394e-02, 5.76371043e-02, 1.46203778e-02,\n",
       "        5.36645053e-02, 5.05230836e-02, 3.95978278e-02, 6.23610462e-02,\n",
       "        8.04995637e-02, 6.24008223e-02, 0.00000000e+00, 2.28742450e-02,\n",
       "        2.03556657e-02, 5.73268034e-02, 3.88025817e-02, 3.64207588e-02,\n",
       "        6.43220645e-02, 4.85351820e-02, 5.18251095e-02, 6.20754384e-02,\n",
       "        1.73039045e-02, 4.05741474e-02, 4.25718705e-02, 5.31967959e-02,\n",
       "        3.74076349e-02, 6.18679767e-02, 5.16761330e-02, 6.12829393e-02,\n",
       "        1.92519503e-02, 1.92519503e-02, 5.64403432e-02, 5.97649568e-02,\n",
       "        4.76238424e-02, 5.69659839e-02, 6.93151624e-02, 6.38818350e-02,\n",
       "        4.87529132e-02, 5.31494986e-02, 0.00000000e+00, 2.11989915e-02,\n",
       "        4.60875183e-02, 2.78819676e-02, 6.40022449e-02, 5.05706656e-02,\n",
       "        4.29961712e-02, 5.80742868e-02, 4.87978568e-02, 6.11523660e-02,\n",
       "        3.43449795e-02, 5.86827973e-02, 6.64734844e-02, 3.59332117e-02,\n",
       "        3.94205216e-02, 5.41665753e-02, 5.73870641e-02, 6.12170860e-02,\n",
       "        5.56077061e-02, 2.44469261e-02, 5.68006126e-02, 4.42262008e-02,\n",
       "        2.97303752e-02, 5.77264130e-02, 7.24334748e-02, 4.67649454e-02,\n",
       "        7.92848614e-02, 4.65493162e-02, 6.15462210e-02, 5.21006793e-02,\n",
       "        5.07168823e-02, 4.50519697e-02, 7.17517186e-02, 5.76729040e-02,\n",
       "        5.52348912e-02, 5.46304848e-02, 5.25124039e-02, 4.66593128e-02,\n",
       "        2.90301391e-02, 3.99414263e-02, 5.57327227e-02, 4.30891664e-02,\n",
       "        5.61803207e-02, 0.00000000e+00, 6.94142483e-02, 5.46013695e-02,\n",
       "        5.31355051e-02, 7.31728856e-02, 0.00000000e+00, 6.50778887e-02,\n",
       "        5.69053101e-02, 4.48406000e-02, 2.09556055e-02, 3.35007422e-02,\n",
       "        3.31486521e-02, 4.54994977e-02, 0.00000000e+00, 3.51936454e-02,\n",
       "        5.19919176e-02, 2.73858212e-02, 5.86107190e-02, 7.15220372e-02,\n",
       "        4.15059575e-02, 6.64754674e-02, 6.55128522e-02, 3.23306076e-02,\n",
       "        1.85437431e-02, 2.36132889e-02, 7.22101034e-02, 5.69021556e-02,\n",
       "        1.78707122e-02, 5.79272533e-02, 5.05377540e-02, 0.00000000e+00,\n",
       "        6.03970733e-02, 4.41441820e-02, 6.62077068e-02, 2.55335548e-02,\n",
       "        5.16990964e-02, 4.42320494e-02, 2.33932543e-02, 6.95578507e-02,\n",
       "        7.20900740e-02, 5.01713581e-02, 4.12267013e-02, 3.55214343e-02,\n",
       "        5.19144520e-02, 4.27104315e-02, 2.23353700e-02, 6.82519314e-02,\n",
       "        6.04292051e-02, 3.31983688e-02, 5.10274294e-02, 4.70409666e-02,\n",
       "        6.27975083e-02, 1.98274776e-02, 5.41974555e-02, 4.42337407e-02,\n",
       "        1.12887227e-02, 7.76929743e-02, 3.61056557e-02, 2.47348156e-02,\n",
       "        7.55612483e-02, 6.35214256e-02, 5.44412949e-02, 5.28502492e-02,\n",
       "        6.06035038e-02, 2.28628829e-02, 3.85366974e-02, 0.00000000e+00,\n",
       "        5.63555668e-02, 3.80053480e-02, 4.65692036e-02, 3.96142580e-02,\n",
       "        3.99958676e-02, 7.29159652e-02, 0.00000000e+00, 5.24603678e-02,\n",
       "        5.33868978e-02, 3.30537797e-02, 5.52869090e-02, 1.64477439e-02,\n",
       "        3.67921096e-02, 5.60218126e-02, 5.35386048e-02, 3.66046411e-02]])"
      ]
     },
     "execution_count": 335,
     "metadata": {},
     "output_type": "execute_result"
    }
   ],
   "source": [
    "# Obtain the principal components from the TruncatedSVD model\n",
    "principal_components = pca.components_\n",
    "\n",
    "print(f\"Principal Components Shape: {principal_components.T.shape}\")\n",
    "principal_components"
   ]
  },
  {
   "cell_type": "code",
   "execution_count": 26,
   "id": "74ac44e5-e95e-4317-a5b2-7db321053476",
   "metadata": {},
   "outputs": [],
   "source": [
    "selected_genres = [\"Musical\", \"Horror\", \"Romance\"]\n",
    "selected_scripts = []\n",
    "selected_genres_extended = []\n",
    "for movie in movie_data:\n",
    "    for genre in movie['genres']:\n",
    "        if genre in selected_genres:\n",
    "            selected_scripts.append(movie['script'])\n",
    "            selected_genres_extended.append(genre)\n",
    "            break"
   ]
  },
  {
   "cell_type": "markdown",
   "id": "a737e3e7-71e6-4985-bfe7-162c00bf4a47",
   "metadata": {},
   "source": [
    "## Final Answer:"
   ]
  },
  {
   "cell_type": "code",
   "execution_count": 276,
   "id": "7e30e681-faa6-4479-b606-552b0f2f86c3",
   "metadata": {},
   "outputs": [
    {
     "data": {
      "image/png": "[encoded data removed]",
      "text/plain": [
       "<Figure size 1000x600 with 1 Axes>"
      ]
     },
     "metadata": {},
     "output_type": "display_data"
    }
   ],
   "source": [
    "# Creating a DataFrame from the transposed principal components matrix, naming the column as 'PC1'\n",
    "pc_df = pd.DataFrame(principal_components.T, columns=['PC1'])\n",
    "\n",
    "# Adding a column named 'Genre' to the DataFrame, containing the genre information from selected_genres_extended\n",
    "pc_df['Genre'] = selected_genres_extended\n",
    "\n",
    "\n",
    "plt.figure(figsize=(10, 6))\n",
    "strip = sns.stripplot(x='PC1', y='Genre', data=pc_df, jitter=True, hue='Genre')\n",
    "plt.title('Strip Plot of Genres vs. First Principal Component')\n",
    "plt.xlabel('First Principal Component')\n",
    "plt.ylabel('Genre')\n",
    "\n",
    "\n",
    "unique_genres = pc_df['Genre'].unique()\n",
    "\n",
    "legend_handles = [plt.Line2D([0], [0], marker='o', color='w', markerfacecolor=sns.color_palette()[i], \n",
    "                             markersize=10, label=genre) for i, genre in enumerate(unique_genres)]\n",
    "\n",
    "# Adding legend\n",
    "plt.legend(handles=legend_handles, loc='center left', bbox_to_anchor=(1, 0.5), title='Genres')\n",
    "plt.show()"
   ]
  },
  {
   "cell_type": "markdown",
   "id": "bb5e9bc8-a502-468e-922d-d2be67338cfd",
   "metadata": {},
   "source": [
    "#### ==================================================================================="
   ]
  },
  {
   "cell_type": "markdown",
   "id": "eff52503-8bbc-41d4-aacd-1a9b6c1c7992",
   "metadata": {},
   "source": [
    "### Does visualization indicate that a good classification could result from this approach?"
   ]
  },
  {
   "cell_type": "markdown",
   "id": "ae6a9a53-72af-44b0-92bc-66bfbd87ed96",
   "metadata": {},
   "source": [
    "The data points are spread out without clear distinctions between genres, making it hard to create an accurate classifier. Instances of data overlapping between genres indicate it's tough to draw clear boundaries. Even though the first principal component shows the main direction of variability in the data, it might not help much in distinguishing between genres. This shows how tricky it is to classify data when dealing with multiple genres. If the first principal component accounts for a large part of the variability (like more than 70%), it suggests there are some underlying patterns that could help with classification. However, the small amount of variation (2.8693667009199373e-05) in our data is a limitation. Despite this, we can see some clusters of genres in the plot, which suggests classification might be possible, but it's still challenging because genres can overlap."
   ]
  },
  {
   "cell_type": "markdown",
   "id": "edc9ac73-677b-4f02-9797-471456480543",
   "metadata": {},
   "source": [
    "#### ==================================================================================="
   ]
  },
  {
   "cell_type": "markdown",
   "id": "a4b2afc6-556c-49ae-bbe9-7dabf87ff7fe",
   "metadata": {},
   "source": [
    "#### ================ If I remove Null scripts ========================="
   ]
  },
  {
   "cell_type": "code",
   "execution_count": 25,
   "id": "c81a294e-e12b-461c-a6b9-82527054ce4b",
   "metadata": {},
   "outputs": [],
   "source": [
    "principal_components = pca.components_"
   ]
  },
  {
   "cell_type": "code",
   "execution_count": 26,
   "id": "0fdd8350-437c-4583-ae2b-94422da526bc",
   "metadata": {},
   "outputs": [],
   "source": [
    "selected_genres = [\"Musical\", \"Horror\", \"Romance\"]\n",
    "selected_scripts = []\n",
    "selected_genres_extended = []\n",
    "for movie in movie_data:\n",
    "    if movie['script'] != \"\":\n",
    "        for genre in movie['genres']:\n",
    "            if genre in selected_genres:\n",
    "                selected_scripts.append(movie['script'])\n",
    "                selected_genres_extended.append(genre)\n",
    "                break"
   ]
  },
  {
   "cell_type": "markdown",
   "id": "d749e5f0-da54-40c5-9d72-f0b916ccc420",
   "metadata": {},
   "source": [
    "## Final Answer:"
   ]
  },
  {
   "cell_type": "code",
   "execution_count": 27,
   "id": "eb5c5c89-6536-41ff-aab6-78161c0f2a5c",
   "metadata": {},
   "outputs": [
    {
     "data": {
      "image/png": "[encoded data removed]",
      "text/plain": [
       "<Figure size 1000x600 with 1 Axes>"
      ]
     },
     "metadata": {},
     "output_type": "display_data"
    }
   ],
   "source": [
    "# Creating a DataFrame from the transposed principal components matrix, naming the column as 'PC1'\n",
    "pc_df = pd.DataFrame(principal_components.T, columns=['PC1'])\n",
    "\n",
    "# Adding a column named 'Genre' to the DataFrame, containing the genre information from selected_genres_extended\n",
    "pc_df['Genre'] = selected_genres_extended\n",
    "\n",
    "\n",
    "plt.figure(figsize=(10, 6))\n",
    "strip = sns.stripplot(x='PC1', y='Genre', data=pc_df, jitter=True, hue='Genre')\n",
    "plt.title('Strip Plot of Genres vs. First Principal Component')\n",
    "plt.xlabel('First Principal Component')\n",
    "plt.ylabel('Genre')\n",
    "\n",
    "\n",
    "unique_genres = pc_df['Genre'].unique()\n",
    "\n",
    "legend_handles = [plt.Line2D([0], [0], marker='o', color='w', markerfacecolor=sns.color_palette()[i], \n",
    "                             markersize=10, label=genre) for i, genre in enumerate(unique_genres)]\n",
    "\n",
    "# Adding legend\n",
    "plt.legend(handles=legend_handles, loc='center left', bbox_to_anchor=(1, 0.5), title='Genres')\n",
    "plt.show()"
   ]
  },
  {
   "cell_type": "markdown",
   "id": "612790b9-77d0-485e-8772-7516d780bd31",
   "metadata": {},
   "source": [
    "# Acknowledgment\n",
    "I received assistance from `ChatGPT` while working on certain questions in this notebook. I want to clarify that I independently completed the majority of the tasks, seeking help only in instances where I encountered challenges or felt lost. The collaboration with ChatGPT was instrumental in providing guidance and insights during those moments.\n",
    "ChatGpt: https://chat.openai.com/\n",
    "\n",
    "--- Nikita Bhrugumaharshi Emberi"
   ]
  },
  {
   "cell_type": "markdown",
   "id": "42c78324-17eb-47e7-8f55-5e7f74beb289",
   "metadata": {},
   "source": [
    "## References:\n",
    "1) https://imsdb.com/"
   ]
  },
  {
   "cell_type": "code",
   "execution_count": null,
   "id": "aeba02f7-544f-46db-83ef-f9bbcd17928d",
   "metadata": {},
   "outputs": [],
   "source": []
  }
 ],
 "metadata": {
  "celltoolbar": "Tags",
  "kernelspec": {
   "display_name": "Python 3 (ipykernel)",
   "language": "python",
   "name": "python3"
  },
  "language_info": {
   "codemirror_mode": {
    "name": "ipython",
    "version": 3
   },
   "file_extension": ".py",
   "mimetype": "text/x-python",
   "name": "python",
   "nbconvert_exporter": "python",
   "pygments_lexer": "ipython3",
   "version": "3.12.1"
  }
 },
 "nbformat": 4,
 "nbformat_minor": 5
}
